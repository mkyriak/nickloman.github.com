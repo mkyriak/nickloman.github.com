{
 "cells": [
  {
   "cell_type": "markdown",
   "metadata": {},
   "source": [
    "# Pseudomonas in water tutorial\n",
    "\n",
    "*Pseudomonas aeruginosa* is a ubiquitous environmental bacterium and opportunistic pathogen that can infect vulnerable patients, for example on the intensive care unit. *P. aeruginosa* is also commonly drug resistant, and in some cases can become extensively drug resistant, making it hard to treat. In a hospital in the UK we tracked an outbreak of *P. aeruginosa* and determined that patients were becoming infected from water outlets near where they were being nursed. \n",
    "\n",
    "This task asks you to become a disease detective and, using the knowledge of alignments, variant calling and assembly you have acquired during this course, work out which water outlet a patient infection is associated with. The patient was treated with numerous antibiotics during their stay - from the genome sequence can you figure out what antibiotics the organism is likely to be resistant to?\n",
    "\n",
    "\n",
    "## References\n",
    "\n",
    "Quick et al. Seeking the source of Pseudomonas aeruginosa infections in a recently opened hospital: an observational study using whole-genome sequencing. http://bmjopen.bmj.com/content/4/11/e006278.f…"
   ]
  },
  {
   "cell_type": "markdown",
   "metadata": {},
   "source": [
    "## Data\n",
    "We have provided 5 sets of reads, each from the Illumina MiSeq sequencer.:\n",
    "\n",
    "Download them from:\n",
    "http://www.microbesng.uk/filedist/pseudomonas-practical/\n",
    "\n",
    "## Task\n",
    "\n",
    "  * Quality assess your reads: how long are they? How long are the inserts?\n",
    "  * Align your reads to the supplied Pseudomonas reference sequence (ST17.fasta, the annotations are further in ST17.gff):\n",
    "     * What proportion of reads map for each sample?\n",
    "     * What is the approximate coverage of your genome?\n",
    "     * How many differences are there between the diferent samples? What about if you try different filters, hints:\n",
    "         * Quality filter: QUAL > 100\n",
    "         * Likelihood filter: QUAL / AO > 10\n",
    "         * Variant frequency filter: AO / DP > 0.9 (90% allele frequency)\n",
    "  * Which tap do you think was most likely to have infected the patient? (hint: compare the number of SNPs between each tap and one of the patient samples using vcfsamplediff)\n",
    "  * The patient was treated with numerous antibiotic agents between PATIENT1 and PATIENT2 samples. Which ones may the organism have acquired resistance to? Hints:\n",
    "     * Use joint calling to compare the two samples, and vcfsamplediff\n",
    "     * You may still have lots of SNPs - can you filter them\n",
    "     * What do you think about the distribution of SNPs? What is going on biologically?\n",
    "     * Hint: inspect the SNPs!"
   ]
  },
  {
   "cell_type": "markdown",
   "metadata": {},
   "source": [
    "## Get the files for the practical:\n",
    "\n",
    "   * TAP1 - a Pseudomonas strain isolated from TAP1 on the ward\n",
    "   * TAP2 - a Pseudomonas strain isolated from TAP2 on the ward\n",
    "   * TAP3 - a Pseudomonas strain isolated from TAP3 on the ward\n",
    "   * PATIENT1 - a Pseudomonas strain isolated from a patient treated with antibiotics\n",
    "   * PATIENT2 - a Pseudomonas strain isolated from a patient a week later after further antibiotic treatment"
   ]
  },
  {
   "cell_type": "code",
   "execution_count": 2,
   "metadata": {
    "collapsed": false
   },
   "outputs": [
    {
     "name": "stdout",
     "output_type": "stream",
     "text": [
      "mkdir: practical: File exists\r\n"
     ]
    }
   ],
   "source": [
    "!mkdir practical"
   ]
  },
  {
   "cell_type": "code",
   "execution_count": 3,
   "metadata": {
    "collapsed": false
   },
   "outputs": [
    {
     "name": "stdout",
     "output_type": "stream",
     "text": [
      "/Users/nick/work/pseudopractical/practical\n"
     ]
    }
   ],
   "source": [
    "%cd practical"
   ]
  },
  {
   "cell_type": "code",
   "execution_count": 4,
   "metadata": {
    "collapsed": false
   },
   "outputs": [
    {
     "name": "stdout",
     "output_type": "stream",
     "text": [
      "--2015-11-27 14:11:17--  http://www.microbesng.uk/filedist/pseudomonas-practical/\n",
      "Resolving www.microbesng.uk... 147.188.125.47\n",
      "Connecting to www.microbesng.uk|147.188.125.47|:80... connected.\n",
      "HTTP request sent, awaiting response... 200 OK\n",
      "Length: 3682 (3.6K) [text/html]\n",
      "Saving to: 'www.microbesng.uk/filedist/pseudomonas-practical/index.html'\n",
      "\n",
      "www.microbesng.uk/f 100%[=====================>]   3.60K  --.-KB/s   in 0s     \n",
      "\n",
      "Last-modified header missing -- time-stamps turned off.\n",
      "2015-11-27 14:11:17 (8.84 MB/s) - 'www.microbesng.uk/filedist/pseudomonas-practical/index.html' saved [3682/3682]\n",
      "\n",
      "Loading robots.txt; please ignore errors.\n",
      "--2015-11-27 14:11:17--  http://www.microbesng.uk/robots.txt\n",
      "Connecting to www.microbesng.uk|147.188.125.47|:80... connected.\n",
      "HTTP request sent, awaiting response... 200 OK\n",
      "Length: unspecified [text/plain]\n",
      "Saving to: 'www.microbesng.uk/robots.txt'\n",
      "\n",
      "www.microbesng.uk/r     [ <=>                  ]      35  --.-KB/s   in 0s     \n",
      "\n",
      "2015-11-27 14:11:17 (3.71 MB/s) - 'www.microbesng.uk/robots.txt' saved [35]\n",
      "\n",
      "--2015-11-27 14:11:17--  http://www.microbesng.uk/filedist/\n",
      "Connecting to www.microbesng.uk|147.188.125.47|:80... connected.\n",
      "HTTP request sent, awaiting response... 404 Not Found\n",
      "2015-11-27 14:11:17 ERROR 404: Not Found.\n",
      "\n",
      "--2015-11-27 14:11:17--  http://www.microbesng.uk/filedist/pseudomonas-practical/PATIENT1_R1.fastq.gz\n",
      "Connecting to www.microbesng.uk|147.188.125.47|:80... connected.\n",
      "HTTP request sent, awaiting response... 200 OK\n",
      "Length: 86269256 (82M) [application/octet-stream]\n",
      "Saving to: 'www.microbesng.uk/filedist/pseudomonas-practical/PATIENT1_R1.fastq.gz'\n",
      "\n",
      "www.microbesng.uk/f 100%[=====================>]  82.27M  2.22MB/s   in 28s    \n",
      "\n",
      "Last-modified header missing -- time-stamps turned off.\n",
      "2015-11-27 14:11:45 (2.95 MB/s) - 'www.microbesng.uk/filedist/pseudomonas-practical/PATIENT1_R1.fastq.gz' saved [86269256/86269256]\n",
      "\n",
      "--2015-11-27 14:11:45--  http://www.microbesng.uk/filedist/pseudomonas-practical/PATIENT1_R2.fastq.gz\n",
      "Connecting to www.microbesng.uk|147.188.125.47|:80... connected.\n",
      "HTTP request sent, awaiting response... 200 OK\n",
      "Length: 75390440 (72M) [application/octet-stream]\n",
      "Saving to: 'www.microbesng.uk/filedist/pseudomonas-practical/PATIENT1_R2.fastq.gz'\n",
      "\n",
      "www.microbesng.uk/f 100%[=====================>]  71.90M  2.65MB/s   in 26s    \n",
      "\n",
      "Last-modified header missing -- time-stamps turned off.\n",
      "2015-11-27 14:12:11 (2.77 MB/s) - 'www.microbesng.uk/filedist/pseudomonas-practical/PATIENT1_R2.fastq.gz' saved [75390440/75390440]\n",
      "\n",
      "--2015-11-27 14:12:11--  http://www.microbesng.uk/filedist/pseudomonas-practical/PATIENT2_R1.fastq.gz\n",
      "Connecting to www.microbesng.uk|147.188.125.47|:80... connected.\n",
      "HTTP request sent, awaiting response... 200 OK\n",
      "Length: 75609391 (72M) [application/octet-stream]\n",
      "Saving to: 'www.microbesng.uk/filedist/pseudomonas-practical/PATIENT2_R1.fastq.gz'\n",
      "\n",
      "www.microbesng.uk/f 100%[=====================>]  72.11M  2.17MB/s   in 32s    \n",
      "\n",
      "Last-modified header missing -- time-stamps turned off.\n",
      "2015-11-27 14:12:43 (2.27 MB/s) - 'www.microbesng.uk/filedist/pseudomonas-practical/PATIENT2_R1.fastq.gz' saved [75609391/75609391]\n",
      "\n",
      "--2015-11-27 14:12:43--  http://www.microbesng.uk/filedist/pseudomonas-practical/PATIENT2_R2.fastq.gz\n",
      "Connecting to www.microbesng.uk|147.188.125.47|:80... connected.\n",
      "HTTP request sent, awaiting response... 200 OK\n",
      "Length: 70584522 (67M) [application/octet-stream]\n",
      "Saving to: 'www.microbesng.uk/filedist/pseudomonas-practical/PATIENT2_R2.fastq.gz'\n",
      "\n",
      "www.microbesng.uk/f 100%[=====================>]  67.31M  1.90MB/s   in 28s    \n",
      "\n",
      "Last-modified header missing -- time-stamps turned off.\n",
      "2015-11-27 14:13:11 (2.44 MB/s) - 'www.microbesng.uk/filedist/pseudomonas-practical/PATIENT2_R2.fastq.gz' saved [70584522/70584522]\n",
      "\n",
      "--2015-11-27 14:13:11--  http://www.microbesng.uk/filedist/pseudomonas-practical/ST17.fasta\n",
      "Connecting to www.microbesng.uk|147.188.125.47|:80... connected.\n",
      "HTTP request sent, awaiting response... 200 OK\n",
      "Length: 6892166 (6.6M) [application/octet-stream]\n",
      "Saving to: 'www.microbesng.uk/filedist/pseudomonas-practical/ST17.fasta'\n",
      "\n",
      "www.microbesng.uk/f 100%[=====================>]   6.57M  2.12MB/s   in 3.1s   \n",
      "\n",
      "Last-modified header missing -- time-stamps turned off.\n",
      "2015-11-27 14:13:14 (2.12 MB/s) - 'www.microbesng.uk/filedist/pseudomonas-practical/ST17.fasta' saved [6892166/6892166]\n",
      "\n",
      "--2015-11-27 14:13:14--  http://www.microbesng.uk/filedist/pseudomonas-practical/ST17.gff\n",
      "Connecting to www.microbesng.uk|147.188.125.47|:80... connected.\n",
      "HTTP request sent, awaiting response... 200 OK\n",
      "Length: 9880309 (9.4M) [application/octet-stream]\n",
      "Saving to: 'www.microbesng.uk/filedist/pseudomonas-practical/ST17.gff'\n",
      "\n",
      "www.microbesng.uk/f 100%[=====================>]   9.42M  2.44MB/s   in 3.9s   \n",
      "\n",
      "Last-modified header missing -- time-stamps turned off.\n",
      "2015-11-27 14:13:18 (2.45 MB/s) - 'www.microbesng.uk/filedist/pseudomonas-practical/ST17.gff' saved [9880309/9880309]\n",
      "\n",
      "--2015-11-27 14:13:18--  http://www.microbesng.uk/filedist/pseudomonas-practical/TAP1_R1_paired.fastq.gz\n",
      "Connecting to www.microbesng.uk|147.188.125.47|:80... connected.\n",
      "HTTP request sent, awaiting response... 200 OK\n",
      "Length: 98714293 (94M) [application/octet-stream]\n",
      "Saving to: 'www.microbesng.uk/filedist/pseudomonas-practical/TAP1_R1_paired.fastq.gz'\n",
      "\n",
      "www.microbesng.uk/f 100%[=====================>]  94.14M  2.72MB/s   in 40s    \n",
      "\n",
      "Last-modified header missing -- time-stamps turned off.\n",
      "2015-11-27 14:13:58 (2.34 MB/s) - 'www.microbesng.uk/filedist/pseudomonas-practical/TAP1_R1_paired.fastq.gz' saved [98714293/98714293]\n",
      "\n",
      "--2015-11-27 14:13:58--  http://www.microbesng.uk/filedist/pseudomonas-practical/TAP1_R2_paired.fastq.gz\n",
      "Connecting to www.microbesng.uk|147.188.125.47|:80... connected.\n",
      "HTTP request sent, awaiting response... 200 OK\n",
      "Length: 93379511 (89M) [application/octet-stream]\n",
      "Saving to: 'www.microbesng.uk/filedist/pseudomonas-practical/TAP1_R2_paired.fastq.gz'\n",
      "\n",
      "www.microbesng.uk/f 100%[=====================>]  89.05M  3.97MB/s   in 27s    \n",
      "\n",
      "Last-modified header missing -- time-stamps turned off.\n",
      "2015-11-27 14:14:25 (3.33 MB/s) - 'www.microbesng.uk/filedist/pseudomonas-practical/TAP1_R2_paired.fastq.gz' saved [93379511/93379511]\n",
      "\n",
      "--2015-11-27 14:14:25--  http://www.microbesng.uk/filedist/pseudomonas-practical/TAP2_R1_paired.fastq.gz\n",
      "Connecting to www.microbesng.uk|147.188.125.47|:80... connected.\n",
      "HTTP request sent, awaiting response... 200 OK\n",
      "Length: 98714293 (94M) [application/octet-stream]\n",
      "Saving to: 'www.microbesng.uk/filedist/pseudomonas-practical/TAP2_R1_paired.fastq.gz'\n",
      "\n",
      "www.microbesng.uk/f 100%[=====================>]  94.14M  2.51MB/s   in 42s    \n",
      "\n",
      "Last-modified header missing -- time-stamps turned off.\n",
      "2015-11-27 14:15:07 (2.22 MB/s) - 'www.microbesng.uk/filedist/pseudomonas-practical/TAP2_R1_paired.fastq.gz' saved [98714293/98714293]\n",
      "\n",
      "--2015-11-27 14:15:07--  http://www.microbesng.uk/filedist/pseudomonas-practical/TAP2_R2_paired.fastq.gz\n",
      "Connecting to www.microbesng.uk|147.188.125.47|:80... connected.\n",
      "HTTP request sent, awaiting response... 200 OK\n",
      "Length: 93379511 (89M) [application/octet-stream]\n",
      "Saving to: 'www.microbesng.uk/filedist/pseudomonas-practical/TAP2_R2_paired.fastq.gz'\n",
      "\n",
      "www.microbesng.uk/f 100%[=====================>]  89.05M  2.98MB/s   in 34s    \n",
      "\n",
      "Last-modified header missing -- time-stamps turned off.\n",
      "2015-11-27 14:15:41 (2.60 MB/s) - 'www.microbesng.uk/filedist/pseudomonas-practical/TAP2_R2_paired.fastq.gz' saved [93379511/93379511]\n",
      "\n",
      "--2015-11-27 14:15:41--  http://www.microbesng.uk/filedist/pseudomonas-practical/TAP3_R1_paired.fastq.gz\n",
      "Connecting to www.microbesng.uk|147.188.125.47|:80... connected.\n",
      "HTTP request sent, awaiting response... 200 OK\n",
      "Length: 102400926 (98M) [application/octet-stream]\n",
      "Saving to: 'www.microbesng.uk/filedist/pseudomonas-practical/TAP3_R1_paired.fastq.gz'\n",
      "\n",
      "www.microbesng.uk/f 100%[=====================>]  97.66M  3.51MB/s   in 34s    \n",
      "\n",
      "Last-modified header missing -- time-stamps turned off.\n",
      "2015-11-27 14:16:16 (2.85 MB/s) - 'www.microbesng.uk/filedist/pseudomonas-practical/TAP3_R1_paired.fastq.gz' saved [102400926/102400926]\n",
      "\n",
      "--2015-11-27 14:16:16--  http://www.microbesng.uk/filedist/pseudomonas-practical/TAP3_R2_paired.fastq.gz\n",
      "Connecting to www.microbesng.uk|147.188.125.47|:80... connected.\n",
      "HTTP request sent, awaiting response... 200 OK\n",
      "Length: 89978323 (86M) [application/octet-stream]\n",
      "Saving to: 'www.microbesng.uk/filedist/pseudomonas-practical/TAP3_R2_paired.fastq.gz'\n",
      "\n",
      "www.microbesng.uk/f 100%[=====================>]  85.81M  3.08MB/s   in 26s    \n",
      "\n",
      "Last-modified header missing -- time-stamps turned off.\n",
      "2015-11-27 14:16:42 (3.26 MB/s) - 'www.microbesng.uk/filedist/pseudomonas-practical/TAP3_R2_paired.fastq.gz' saved [89978323/89978323]\n",
      "\n",
      "FINISHED --2015-11-27 14:16:42--\n",
      "Total wall clock time: 5m 25s\n",
      "Downloaded: 14 files, 859M in 5m 24s (2.65 MB/s)\n"
     ]
    }
   ],
   "source": [
    "!wget -m http://www.microbesng.uk/filedist/pseudomonas-practical/"
   ]
  },
  {
   "cell_type": "code",
   "execution_count": 5,
   "metadata": {
    "collapsed": true
   },
   "outputs": [],
   "source": [
    "!mv www.microbesng.uk/filedist/pseudomonas-practical/* ."
   ]
  },
  {
   "cell_type": "code",
   "execution_count": 6,
   "metadata": {
    "collapsed": false
   },
   "outputs": [
    {
     "name": "stdout",
     "output_type": "stream",
     "text": [
      "PATIENT1_R1.fastq.gz    ST17.fasta              ST17.fasta.pac          TAP1_R2_paired.fastq.gz TAP3_R2_paired.fastq.gz\r\n",
      "PATIENT1_R2.fastq.gz    ST17.fasta.amb          ST17.fasta.sa           TAP2_R1_paired.fastq.gz index.html\r\n",
      "PATIENT2_R1.fastq.gz    ST17.fasta.ann          ST17.gff                TAP2_R2_paired.fastq.gz wget-log\r\n",
      "PATIENT2_R2.fastq.gz    ST17.fasta.bwt          TAP1_R1_paired.fastq.gz TAP3_R1_paired.fastq.gz \u001b[34mwww.microbesng.uk\u001b[m\u001b[m\r\n"
     ]
    }
   ],
   "source": [
    "!ls"
   ]
  },
  {
   "cell_type": "markdown",
   "metadata": {},
   "source": [
    "Index the ST17 reference genome with BWA in advance of aligning the reads:"
   ]
  },
  {
   "cell_type": "code",
   "execution_count": 7,
   "metadata": {
    "collapsed": false
   },
   "outputs": [
    {
     "name": "stdout",
     "output_type": "stream",
     "text": [
      "[bwa_index] Pack FASTA... 0.05 sec\n",
      "[bwa_index] Construct BWT for the packed sequence...\n",
      "[bwa_index] 2.20 seconds elapse.\n",
      "[bwa_index] Update BWT... 0.04 sec\n",
      "[bwa_index] Pack forward-only FASTA... 0.03 sec\n",
      "[bwa_index] Construct SA from BWT and Occ... 0.86 sec\n",
      "[main] Version: 0.7.12-r1039\n",
      "[main] CMD: bwa index ST17.fasta\n",
      "[main] Real time: 3.223 sec; CPU: 3.191 sec\n"
     ]
    }
   ],
   "source": [
    "!bwa index ST17.fasta"
   ]
  },
  {
   "cell_type": "markdown",
   "metadata": {},
   "source": [
    "Align each sample against the reference, convert to BAM, sort the BAM file and index the resulting sorted BAM."
   ]
  },
  {
   "cell_type": "code",
   "execution_count": 9,
   "metadata": {
    "collapsed": false
   },
   "outputs": [
    {
     "name": "stderr",
     "output_type": "stream",
     "text": [
      "[M::bwa_idx_load_from_disk] read 0 ALT contigs\n",
      "[M::process] read 263854 sequences (40000445 bp)...\n",
      "[M::process] read 257252 sequences (40000316 bp)...\n",
      "[M::mem_pestat] # candidate unique pairs for (FF, FR, RF, RR): (207, 121137, 1, 127)\n",
      "[M::mem_pestat] analyzing insert size distribution for orientation FF...\n",
      "[M::mem_pestat] (25, 50, 75) percentile: (85, 167, 284)\n",
      "[M::mem_pestat] low and high boundaries for computing mean and std.dev: (1, 682)\n",
      "[M::mem_pestat] mean and std.dev: (191.50, 133.46)\n",
      "[M::mem_pestat] low and high boundaries for proper pairs: (1, 881)\n",
      "[M::mem_pestat] analyzing insert size distribution for orientation FR...\n",
      "[M::mem_pestat] (25, 50, 75) percentile: (112, 171, 261)\n",
      "[M::mem_pestat] low and high boundaries for computing mean and std.dev: (1, 559)\n",
      "[M::mem_pestat] mean and std.dev: (194.36, 108.40)\n",
      "[M::mem_pestat] low and high boundaries for proper pairs: (1, 708)\n",
      "[M::mem_pestat] skip orientation RF as there are not enough pairs\n",
      "[M::mem_pestat] analyzing insert size distribution for orientation RR...\n",
      "[M::mem_pestat] (25, 50, 75) percentile: (99, 155, 239)\n",
      "[M::mem_pestat] low and high boundaries for computing mean and std.dev: (1, 519)\n",
      "[M::mem_pestat] mean and std.dev: (165.67, 106.36)\n",
      "[M::mem_pestat] low and high boundaries for proper pairs: (1, 659)\n",
      "[M::mem_pestat] skip orientation FF\n",
      "[M::mem_pestat] skip orientation RR\n",
      "[M::mem_process_seqs] Processed 263854 reads in 17.919 CPU sec, 4.312 real sec\n",
      "[M::mem_pestat] # candidate unique pairs for (FF, FR, RF, RR): (191, 118246, 1, 132)\n",
      "[M::mem_pestat] analyzing insert size distribution for orientation FF...\n",
      "[M::mem_pestat] (25, 50, 75) percentile: (111, 180, 313)\n",
      "[M::mem_pestat] low and high boundaries for computing mean and std.dev: (1, 717)\n",
      "[M::mem_pestat] mean and std.dev: (212.07, 133.28)\n",
      "[M::mem_pestat] low and high boundaries for proper pairs: (1, 919)\n",
      "[M::mem_pestat] analyzing insert size distribution for orientation FR...\n",
      "[M::mem_pestat] (25, 50, 75) percentile: (120, 183, 279)\n",
      "[M::mem_pestat] low and high boundaries for computing mean and std.dev: (1, 597)\n",
      "[M::mem_pestat] mean and std.dev: (208.16, 115.91)\n",
      "[M::mem_pestat] low and high boundaries for proper pairs: (1, 756)\n",
      "[M::mem_pestat] skip orientation RF as there are not enough pairs\n",
      "[M::mem_pestat] analyzing insert size distribution for orientation RR...\n",
      "[M::mem_pestat] (25, 50, 75) percentile: (102, 175, 266)\n",
      "[M::mem_pestat] low and high boundaries for computing mean and std.dev: (1, 594)\n",
      "[M::mem_pestat] mean and std.dev: (182.64, 105.80)\n",
      "[M::mem_pestat] low and high boundaries for proper pairs: (1, 758)\n",
      "[M::mem_pestat] skip orientation FF\n",
      "[M::mem_pestat] skip orientation RR\n",
      "[M::mem_process_seqs] Processed 257252 reads in 20.564 CPU sec, 5.257 real sec\n",
      "[M::process] read 250250 sequences (40000096 bp)...\n",
      "[M::mem_pestat] # candidate unique pairs for (FF, FR, RF, RR): (248, 114689, 3, 150)\n",
      "[M::mem_pestat] analyzing insert size distribution for orientation FF...\n",
      "[M::mem_pestat] (25, 50, 75) percentile: (117, 212, 312)\n",
      "[M::mem_pestat] low and high boundaries for computing mean and std.dev: (1, 702)\n",
      "[M::mem_pestat] mean and std.dev: (226.97, 135.53)\n",
      "[M::mem_pestat] low and high boundaries for proper pairs: (1, 897)\n",
      "[M::mem_pestat] analyzing insert size distribution for orientation FR...\n",
      "[M::mem_pestat] (25, 50, 75) percentile: (128, 195, 296)\n",
      "[M::mem_pestat] low and high boundaries for computing mean and std.dev: (1, 632)\n",
      "[M::mem_pestat] mean and std.dev: (220.55, 122.77)\n",
      "[M::mem_pestat] low and high boundaries for proper pairs: (1, 800)\n",
      "[M::mem_pestat] skip orientation RF as there are not enough pairs\n",
      "[M::mem_pestat] analyzing insert size distribution for orientation RR...\n",
      "[M::mem_pestat] (25, 50, 75) percentile: (147, 203, 318)\n",
      "[M::mem_pestat] low and high boundaries for computing mean and std.dev: (1, 660)\n",
      "[M::mem_pestat] mean and std.dev: (219.47, 125.51)\n",
      "[M::mem_pestat] low and high boundaries for proper pairs: (1, 831)\n",
      "[M::mem_pestat] skip orientation FF\n",
      "[M::mem_pestat] skip orientation RR\n",
      "[M::mem_process_seqs] Processed 250250 reads in 21.640 CPU sec, 5.495 real sec\n",
      "[M::process] read 252436 sequences (40000204 bp)...\n",
      "[M::mem_pestat] # candidate unique pairs for (FF, FR, RF, RR): (265, 115999, 1, 123)\n",
      "[M::mem_pestat] analyzing insert size distribution for orientation FF...\n",
      "[M::mem_pestat] (25, 50, 75) percentile: (110, 201, 331)\n",
      "[M::mem_pestat] low and high boundaries for computing mean and std.dev: (1, 773)\n",
      "[M::mem_pestat] mean and std.dev: (225.34, 152.34)\n",
      "[M::mem_pestat] low and high boundaries for proper pairs: (1, 994)\n",
      "[M::mem_pestat] analyzing insert size distribution for orientation FR...\n",
      "[M::mem_pestat] (25, 50, 75) percentile: (120, 188, 295)\n",
      "[M::mem_pestat] low and high boundaries for computing mean and std.dev: (1, 645)\n",
      "[M::mem_pestat] mean and std.dev: (217.17, 127.88)\n",
      "[M::mem_pestat] low and high boundaries for proper pairs: (1, 820)\n",
      "[M::mem_pestat] skip orientation RF as there are not enough pairs\n",
      "[M::mem_pestat] analyzing insert size distribution for orientation RR...\n",
      "[M::mem_pestat] (25, 50, 75) percentile: (104, 179, 319)\n",
      "[M::mem_pestat] low and high boundaries for computing mean and std.dev: (1, 749)\n",
      "[M::mem_pestat] mean and std.dev: (208.76, 141.98)\n",
      "[M::mem_pestat] low and high boundaries for proper pairs: (1, 964)\n",
      "[M::mem_pestat] skip orientation FF\n",
      "[M::mem_pestat] skip orientation RR\n",
      "[M::mem_process_seqs] Processed 252436 reads in 24.916 CPU sec, 6.763 real sec\n",
      "[M::process] read 251998 sequences (40000003 bp)...\n",
      "[M::mem_pestat] # candidate unique pairs for (FF, FR, RF, RR): (237, 115794, 3, 151)\n",
      "[M::mem_pestat] analyzing insert size distribution for orientation FF...\n",
      "[M::mem_pestat] (25, 50, 75) percentile: (114, 180, 334)\n",
      "[M::mem_pestat] low and high boundaries for computing mean and std.dev: (1, 774)\n",
      "[M::mem_pestat] mean and std.dev: (230.36, 161.43)\n",
      "[M::mem_pestat] low and high boundaries for proper pairs: (1, 994)\n",
      "[M::mem_pestat] analyzing insert size distribution for orientation FR...\n",
      "[M::mem_pestat] (25, 50, 75) percentile: (120, 188, 297)\n",
      "[M::mem_pestat] low and high boundaries for computing mean and std.dev: (1, 651)\n",
      "[M::mem_pestat] mean and std.dev: (217.89, 129.64)\n",
      "[M::mem_pestat] low and high boundaries for proper pairs: (1, 828)\n",
      "[M::mem_pestat] skip orientation RF as there are not enough pairs\n",
      "[M::mem_pestat] analyzing insert size distribution for orientation RR...\n",
      "[M::mem_pestat] (25, 50, 75) percentile: (102, 162, 275)\n",
      "[M::mem_pestat] low and high boundaries for computing mean and std.dev: (1, 621)\n",
      "[M::mem_pestat] mean and std.dev: (194.74, 129.25)\n",
      "[M::mem_pestat] low and high boundaries for proper pairs: (1, 794)\n",
      "[M::mem_pestat] skip orientation FF\n",
      "[M::mem_pestat] skip orientation RR\n",
      "[M::mem_process_seqs] Processed 251998 reads in 23.942 CPU sec, 6.172 real sec\n",
      "[M::process] read 246002 sequences (39951800 bp)...\n",
      "[M::mem_pestat] # candidate unique pairs for (FF, FR, RF, RR): (271, 112806, 3, 143)\n",
      "[M::mem_pestat] analyzing insert size distribution for orientation FF...\n",
      "[M::mem_pestat] (25, 50, 75) percentile: (136, 202, 342)\n",
      "[M::mem_pestat] low and high boundaries for computing mean and std.dev: (1, 754)\n",
      "[M::mem_pestat] mean and std.dev: (235.11, 145.43)\n",
      "[M::mem_pestat] low and high boundaries for proper pairs: (1, 960)\n",
      "[M::mem_pestat] analyzing insert size distribution for orientation FR...\n",
      "[M::mem_pestat] (25, 50, 75) percentile: (126, 199, 315)\n",
      "[M::mem_pestat] low and high boundaries for computing mean and std.dev: (1, 693)\n",
      "[M::mem_pestat] mean and std.dev: (230.34, 137.88)\n",
      "[M::mem_pestat] low and high boundaries for proper pairs: (1, 882)\n",
      "[M::mem_pestat] skip orientation RF as there are not enough pairs\n",
      "[M::mem_pestat] analyzing insert size distribution for orientation RR...\n",
      "[M::mem_pestat] (25, 50, 75) percentile: (115, 202, 350)\n",
      "[M::mem_pestat] low and high boundaries for computing mean and std.dev: (1, 820)\n",
      "[M::mem_pestat] mean and std.dev: (234.01, 164.94)\n",
      "[M::mem_pestat] low and high boundaries for proper pairs: (1, 1055)\n",
      "[M::mem_pestat] skip orientation FF\n",
      "[M::mem_pestat] skip orientation RR\n",
      "[M::mem_process_seqs] Processed 246002 reads in 23.847 CPU sec, 6.131 real sec\n",
      "[main] Version: 0.7.12-r1039\n",
      "[main] CMD: bwa mem -t 4 -R @RG\\tID:TAP1\\tSM:TAP1 ST17.fasta TAP1_R1_paired.fastq.gz TAP1_R2_paired.fastq.gz\n",
      "[main] Real time: 53.367 sec; CPU: 136.805 sec\n"
     ]
    }
   ],
   "source": [
    "%%bash\n",
    "bwa mem -t 4 -R '@RG\\tID:TAP1\\tSM:TAP1' ST17.fasta TAP1_R1_paired.fastq.gz TAP1_R2_paired.fastq.gz |\n",
    "  samtools view -bS - |\n",
    "  samtools sort - TAP1.sorted\n",
    "  \n",
    "samtools index TAP1.sorted.bam"
   ]
  },
  {
   "cell_type": "code",
   "execution_count": 10,
   "metadata": {
    "collapsed": false
   },
   "outputs": [
    {
     "name": "stdout",
     "output_type": "stream",
     "text": [
      "# This file was produced by samtools stats (1.2+htslib-1.2.1) and can be plotted using plot-bamstats\r\n",
      "# The command line was:  stats TAP1.sorted.bam\r\n",
      "# CHK, Checksum\t[2]Read Names\t[3]Sequences\t[4]Qualities\r\n",
      "# CHK, CRC32 of reads which passed filtering followed by addition (32bit overflow)\r\n",
      "CHK\t71a2bb93\t6bdf0e99\t26bde062\r\n",
      "# Summary Numbers. Use `grep ^SN | cut -f 2-` to extract this part.\r\n",
      "SN\traw total sequences:\t1536441\r\n",
      "SN\tfiltered sequences:\t0\r\n",
      "SN\tsequences:\t1536441\r\n",
      "SN\tis sorted:\t1\r\n",
      "SN\t1st fragments:\t768963\r\n",
      "SN\tlast fragments:\t767478\r\n",
      "SN\treads mapped:\t1455509\r\n",
      "SN\treads mapped and paired:\t1453995\t# paired-end technology bit set + both mates mapped\r\n",
      "SN\treads unmapped:\t80932\r\n",
      "SN\treads properly paired:\t1440617\t# proper-pair bit set\r\n",
      "SN\treads paired:\t1536441\t# paired-end technology bit set\r\n",
      "SN\treads duplicated:\t0\t# PCR or optical duplicate bit set\r\n",
      "SN\treads MQ0:\t12184\t# mapped and MQ=0\r\n",
      "SN\treads QC failed:\t0\r\n",
      "SN\tnon-primary alignments:\t0\r\n",
      "SN\ttotal length:\t240636457\t# ignores clipping\r\n",
      "SN\tbases mapped:\t228129216\t# ignores clipping\r\n",
      "SN\tbases mapped (cigar):\t224467605\t# more accurate\r\n",
      "SN\tbases trimmed:\t0\r\n",
      "SN\tbases duplicated:\t0\r\n",
      "SN\tmismatches:\t762001\t# from NM fields\r\n",
      "SN\terror rate:\t3.394704e-03\t# mismatches / bases mapped (cigar)\r\n",
      "SN\taverage length:\t156\r\n",
      "SN\tmaximum length:\t250\r\n",
      "SN\taverage quality:\t35.0\r\n",
      "SN\tinsert size average:\t306.3\r\n",
      "SN\tinsert size standard deviation:\t141.5\r\n",
      "SN\tinward oriented pairs:\t362667\r\n",
      "SN\toutward oriented pairs:\t12001\r\n",
      "SN\tpairs with other orientation:\t8105\r\n",
      "SN\tpairs on different chromosomes:\t0\r\n",
      "# First Fragment Qualitites. Use `grep ^FFQ | cut -f 2-` to extract this part.\r\n",
      "# Columns correspond to qualities and rows to cycles. First column is the cycle number.\r\n",
      "FFQ\t1\t0\t0\t0\t0\t0\t0\t0\t0\t0\t0\t0\t0\t26\t32\t60\t19\t13093\t7\t12072\t0\t1\t0\t0\t0\t30\t19\t37\t18\t10\t30502\t8789\t2830\t276938\t251658\t150443\t17727\t2520\t974\t787\t371\t0\t0\r\n",
      "FFQ\t2\t0\t0\t0\t0\t0\t0\t0\t0\t0\t0\t0\t0\t29\t42\t60\t19\t13178\t7\t10113\t1\t1\t0\t0\t0\t34\t14\t30\t16\t12\t24003\t12688\t8820\t238022\t262165\t170613\t23337\t3712\t932\t819\t296\t0\t0\r\n",
      "FFQ\t3\t0\t0\t0\t0\t0\t0\t0\t0\t0\t0\t0\t0\t56\t25\t75\t18\t10962\t4\t6215\t0\t0\t0\t0\t0\t33\t12\t27\t20\t13\t16049\t11287\t7821\t221439\t269971\t189673\t28896\t4339\t928\t843\t257\t0\t0\r\n",
      "FFQ\t4\t0\t0\t0\t0\t0\t0\t0\t0\t0\t0\t0\t0\t53\t21\t61\t16\t11039\t4\t6073\t2\t0\t0\t0\t0\t23\t9\t34\t16\t17\t13392\t10835\t7097\t207840\t274466\t200192\t31222\t4539\t900\t874\t238\t0\t0\r\n",
      "FFQ\t5\t0\t0\t0\t0\t0\t0\t0\t0\t0\t0\t0\t0\t55\t24\t59\t19\t16177\t5\t7885\t1\t0\t0\t0\t0\t39\t6\t39\t21\t11\t12971\t15469\t9769\t204232\t263125\t200289\t32130\t4617\t926\t899\t195\t0\t0\r\n",
      "FFQ\t6\t0\t0\t0\t0\t0\t0\t0\t0\t0\t0\t0\t0\t69\t25\t71\t13\t12723\t32\t4181\t2492\t1312\t0\t0\t0\t23\t10\t33\t21\t30\t6708\t7105\t9975\t54236\t129076\t97387\t59186\t1917\t381261\t901\t176\t0\t0\r\n",
      "FFQ\t7\t0\t0\t0\t0\t0\t0\t0\t0\t0\t0\t0\t0\t66\t30\t67\t98\t14507\t486\t4286\t3173\t1567\t0\t0\t0\t34\t13\t33\t24\t24\t6588\t8193\t11053\t53741\t127797\t98438\t58548\t2442\t376685\t891\t179\t0\t0\r\n",
      "FFQ\t8\t0\t0\t0\t0\t0\t0\t0\t0\t0\t0\t0\t0\t72\t33\t80\t146\t15727\t1446\t3793\t3489\t1433\t0\t0\t0\t42\t6\t35\t17\t22\t7123\t9493\t12967\t53274\t131109\t103747\t62263\t2640\t358968\t861\t177\t0\t0\r\n",
      "FFQ\t9\t0\t0\t0\t0\t0\t0\t0\t0\t0\t0\t0\t0\t75\t42\t116\t359\t15794\t2550\t2961\t3627\t1524\t0\t0\t0\t33\t12\t29\t23\t20\t8278\t8347\t11415\t55726\t133606\t107595\t63875\t2922\t349037\t795\t202\t0\t0\r\n",
      "FFQ\t10\t0\t0\t0\t0\t0\t0\t0\t0\t0\t0\t0\t0\t62\t41\t111\t680\t14614\t2820\t2190\t2993\t1334\t0\t0\t0\t27\t18\t46\t31\t31\t9021\t7886\t10952\t60921\t138907\t111885\t64911\t2758\t335716\t780\t228\t0\t0\r\n",
      "FFQ\t11\t0\t0\t0\t0\t0\t0\t0\t0\t0\t0\t0\t0\t60\t46\t143\t1024\t11920\t2696\t1216\t2042\t714\t0\t0\t0\t44\t14\t41\t16\t25\t8854\t7542\t10450\t60512\t153926\t125159\t76808\t3108\t301630\t733\t240\t0\t0\r\n",
      "FFQ\t12\t0\t0\t0\t0\t0\t0\t0\t0\t0\t0\t0\t0\t62\t47\t158\t2073\t14713\t3912\t1280\t3000\t966\t0\t0\t0\t39\t18\t35\t20\t28\t8448\t10210\t13061\t58248\t149550\t120979\t72378\t3329\t305448\t685\t276\t0\t0\r\n",
      "FFQ\t13\t0\t0\t0\t0\t0\t0\t0\t0\t0\t0\t0\t0\t58\t54\t237\t2794\t12619\t3704\t1262\t2660\t817\t89\t0\t0\t42\t17\t39\t24\t18\t27\t6110\t71\t20005\t8200\t24620\t2964\t58045\t60398\t563793\t296\t0\t0\r\n",
      "FFQ\t14\t0\t0\t0\t0\t0\t0\t0\t0\t0\t0\t0\t0\t83\t45\t286\t4012\t11675\t3975\t1177\t2326\t855\t82\t0\t0\t43\t11\t56\t25\t26\t29\t6887\t50\t19327\t7308\t23485\t2837\t56268\t57027\t570765\t303\t0\t0\r\n",
      "FFQ\t15\t0\t0\t0\t0\t0\t0\t0\t0\t0\t0\t0\t0\t58\t52\t378\t5259\t10018\t3961\t1222\t2075\t821\t102\t0\t0\t48\t19\t59\t25\t22\t34\t7209\t64\t19932\t7162\t25055\t2736\t59881\t57228\t565213\t330\t0\t0\r\n",
      "FFQ\t16\t0\t0\t0\t0\t0\t0\t0\t0\t0\t0\t0\t0\t68\t45\t510\t6695\t8845\t4144\t1126\t2104\t745\t105\t0\t0\t38\t16\t43\t24\t19\t42\t7348\t70\t20174\t6947\t25245\t2698\t60935\t56605\t564038\t334\t0\t0\r\n",
      "FFQ\t17\t0\t0\t0\t0\t0\t0\t0\t0\t0\t0\t0\t0\t61\t39\t739\t7992\t7482\t4329\t1133\t2038\t774\t93\t0\t0\t47\t12\t56\t32\t17\t44\t7165\t82\t21034\t6937\t25009\t2539\t61692\t56251\t563043\t323\t0\t0\r\n",
      "FFQ\t18\t0\t0\t0\t0\t0\t0\t0\t0\t0\t0\t0\t0\t73\t50\t961\t9361\t6698\t4463\t1152\t2100\t796\t74\t0\t0\t54\t13\t40\t36\t21\t51\t7254\t72\t20587\t7030\t24885\t2687\t60687\t56716\t562786\t316\t0\t0\r\n",
      "FFQ\t19\t0\t0\t0\t0\t0\t0\t0\t0\t0\t0\t0\t0\t58\t47\t1201\t9243\t5226\t3945\t1026\t1711\t665\t56\t0\t0\t48\t18\t55\t28\t21\t58\t6632\t87\t20100\t6942\t23933\t2466\t60660\t55902\t568516\t319\t0\t0\r\n",
      "FFQ\t20\t0\t0\t0\t0\t0\t0\t0\t0\t0\t0\t0\t0\t66\t59\t1643\t10365\t5020\t4785\t1258\t2080\t885\t91\t0\t0\t55\t23\t37\t35\t19\t62\t6978\t124\t20816\t7696\t25052\t2940\t58632\t58777\t561164\t301\t0\t0\r\n",
      "FFQ\t21\t0\t0\t0\t0\t0\t0\t0\t0\t0\t0\t0\t0\t64\t53\t2098\t10538\t4770\t4572\t1405\t1816\t896\t107\t0\t0\t56\t20\t46\t41\t16\t84\t6868\t107\t20996\t7816\t24264\t2891\t57410\t58773\t562947\t309\t0\t0\r\n",
      "FFQ\t22\t0\t0\t0\t0\t0\t0\t0\t0\t0\t0\t0\t0\t79\t47\t2450\t10448\t4389\t4763\t1422\t1565\t968\t99\t0\t0\t44\t23\t52\t41\t13\t121\t6671\t101\t20557\t7768\t24356\t2990\t57568\t57578\t564530\t320\t0\t0\r\n",
      "FFQ\t23\t0\t0\t0\t0\t0\t0\t0\t0\t0\t0\t0\t0\t76\t47\t2846\t9796\t3916\t4442\t1345\t1365\t863\t83\t0\t0\t58\t18\t50\t41\t14\t149\t6750\t142\t19992\t7751\t19655\t7347\t58639\t58046\t315217\t250315\t0\t0\r\n",
      "FFQ\t24\t0\t0\t0\t0\t0\t0\t0\t0\t0\t0\t0\t0\t75\t57\t3472\t9554\t3840\t4543\t1311\t1020\t787\t58\t0\t0\t49\t17\t39\t41\t20\t187\t6597\t171\t19436\t7581\t19597\t7430\t57987\t57751\t314747\t252596\t0\t0\r\n",
      "FFQ\t25\t0\t0\t0\t0\t0\t0\t0\t0\t0\t0\t0\t0\t61\t58\t4220\t10029\t4098\t5209\t1453\t1081\t999\t55\t0\t0\t60\t24\t55\t38\t21\t193\t7283\t201\t20319\t7778\t21311\t7639\t57602\t58197\t315155\t245824\t0\t0\r\n",
      "FFQ\t26\t0\t0\t0\t0\t0\t0\t0\t0\t0\t0\t0\t0\t76\t62\t4753\t9441\t4039\t7502\t1989\t1361\t1496\t97\t0\t0\t52\t25\t57\t37\t15\t259\t7528\t241\t20770\t8006\t21775\t7657\t58827\t58537\t312242\t242119\t0\t0\r\n",
      "FFQ\t27\t0\t0\t0\t0\t0\t0\t0\t0\t0\t0\t0\t0\t70\t67\t4787\t7824\t3867\t6071\t1720\t952\t1296\t68\t0\t0\t57\t28\t66\t48\t22\t346\t6586\t290\t20689\t8118\t19675\t7236\t60840\t58804\t313092\t246344\t0\t0\r\n",
      "FFQ\t28\t0\t0\t0\t0\t0\t0\t0\t0\t0\t0\t0\t0\t88\t75\t5526\t7613\t4010\t6444\t1857\t782\t1373\t62\t0\t0\t53\t20\t55\t44\t17\t405\t7003\t346\t20531\t7898\t20371\t7498\t60388\t58791\t312783\t244930\t0\t0\r\n",
      "FFQ\t29\t0\t0\t0\t0\t0\t0\t0\t0\t0\t0\t0\t0\t97\t66\t6693\t8247\t4892\t7794\t2383\t772\t1762\t61\t0\t0\t65\t21\t62\t46\t18\t472\t7657\t446\t21616\t8669\t21730\t7911\t59852\t59050\t308677\t239904\t0\t0\r\n",
      "FFQ\t30\t0\t0\t0\t0\t0\t0\t0\t0\t0\t0\t0\t0\t95\t71\t7682\t8555\t5472\t8814\t2922\t751\t2100\t71\t0\t0\t49\t26\t60\t61\t18\t652\t7737\t545\t23266\t9435\t21187\t8110\t61853\t60762\t302404\t236265\t0\t0\r\n",
      "FFQ\t31\t0\t0\t0\t0\t0\t0\t0\t0\t0\t0\t0\t0\t83\t74\t7093\t6812\t4680\t5904\t2077\t352\t1475\t26\t0\t0\t54\t29\t55\t62\t27\t822\t6854\t572\t22417\t9581\t19405\t7439\t65194\t61589\t307088\t238829\t0\t0\r\n",
      "FFQ\t32\t0\t0\t0\t0\t0\t0\t0\t0\t0\t0\t0\t0\t81\t52\t7591\t6408\t4742\t5427\t2010\t220\t1474\t31\t0\t0\t65\t22\t61\t71\t17\t802\t6892\t726\t20517\t8337\t19986\t7377\t62732\t59771\t309501\t243334\t0\t0\r\n",
      "FFQ\t33\t0\t0\t0\t0\t0\t0\t0\t0\t0\t0\t0\t0\t89\t75\t9388\t7623\t6060\t6638\t2817\t231\t1983\t24\t0\t0\t53\t18\t48\t66\t21\t1062\t7931\t872\t22018\t9011\t21988\t8144\t61188\t60417\t302147\t238015\t0\t0\r\n",
      "FFQ\t34\t0\t0\t0\t0\t0\t0\t0\t0\t0\t0\t0\t0\t91\t67\t9397\t6902\t6119\t5706\t2611\t152\t1922\t22\t0\t0\t52\t22\t54\t87\t20\t1260\t7435\t915\t21132\t9057\t20803\t7761\t61692\t60174\t305917\t238216\t0\t0\r\n",
      "FFQ\t35\t0\t0\t0\t0\t0\t0\t0\t0\t0\t0\t0\t0\t87\t60\t8732\t6036\t5333\t4433\t2164\t65\t1521\t9\t0\t0\t58\t23\t50\t94\t19\t1577\t6931\t1130\t20314\t9121\t19606\t7427\t64031\t60425\t307882\t240128\t0\t0\r\n",
      "FFQ\t36\t0\t0\t0\t0\t0\t0\t0\t0\t0\t0\t0\t0\t86\t57\t9374\t5829\t5546\t4085\t2193\t50\t1531\t6\t0\t0\t61\t21\t46\t97\t17\t1607\t6965\t1299\t18964\t8302\t19667\t7419\t61555\t59308\t308177\t244656\t0\t0\r\n",
      "FFQ\t37\t0\t0\t0\t0\t0\t0\t0\t0\t0\t0\t0\t0\t79\t49\t10576\t6565\t6717\t4640\t2795\t40\t1932\t12\t0\t0\t43\t22\t48\t128\t10\t1926\t8038\t1575\t19459\t9009\t21113\t8038\t61357\t59736\t304420\t238273\t0\t0\r\n",
      "FFQ\t38\t0\t0\t0\t0\t0\t0\t0\t0\t0\t0\t0\t0\t82\t56\t11482\t6875\t7331\t4450\t2825\t20\t1976\t8\t0\t0\t48\t19\t48\t139\t17\t2240\t8392\t1766\t20105\t9396\t21633\t8028\t62166\t60914\t301408\t234887\t0\t0\r\n",
      "FFQ\t39\t0\t0\t0\t0\t0\t0\t0\t0\t0\t0\t0\t0\t78\t59\t10476\t5834\t6420\t3495\t2514\t11\t1534\t4\t0\t0\t62\t16\t49\t162\t12\t2541\t7419\t1920\t18513\t9221\t19366\t7641\t63968\t60970\t303019\t240705\t0\t0\r\n",
      "FFQ\t40\t0\t0\t0\t0\t0\t0\t0\t0\t0\t0\t0\t0\t71\t43\t10050\t5278\t6151\t2826\t2205\t9\t1472\t2\t0\t0\t45\t31\t37\t168\t15\t2676\t7361\t2133\t17156\t8507\t19368\t7441\t62700\t59713\t307572\t242709\t0\t0\r\n",
      "FFQ\t41\t0\t0\t0\t0\t0\t0\t0\t0\t0\t0\t0\t0\t72\t62\t11540\t6030\t7170\t3046\t2718\t5\t1623\t2\t0\t0\t39\t21\t37\t197\t21\t2910\t8261\t2573\t17021\t8599\t21158\t7862\t60645\t59074\t304742\t240065\t0\t0\r\n",
      "FFQ\t42\t0\t0\t0\t0\t0\t0\t0\t0\t0\t0\t0\t0\t88\t60\t11655\t6047\t7374\t2818\t2795\t2\t1718\t0\t0\t0\t41\t19\t53\t225\t16\t3358\t8132\t2807\t16243\t9068\t21040\t7958\t60874\t59519\t303628\t239702\t0\t0\r\n",
      "FFQ\t43\t0\t0\t0\t0\t0\t0\t0\t0\t0\t0\t0\t0\t82\t65\t11257\t5338\t6948\t2358\t2585\t1\t1505\t0\t0\t0\t44\t17\t37\t261\t16\t3626\t8137\t2944\t15233\t8912\t20378\t7560\t61717\t59543\t305897\t240561\t0\t0\r\n",
      "FFQ\t44\t0\t0\t0\t0\t0\t0\t0\t0\t0\t0\t0\t0\t94\t45\t11064\t5138\t6837\t2060\t2478\t1\t1420\t0\t0\t0\t42\t20\t32\t302\t11\t3811\t7953\t3206\t14154\t8716\t20140\t7350\t61568\t58839\t308816\t240685\t0\t0\r\n",
      "FFQ\t45\t0\t0\t0\t0\t0\t0\t0\t0\t0\t0\t0\t0\t102\t55\t12882\t5923\t8073\t2322\t3206\t1\t1691\t0\t0\t0\t50\t24\t38\t420\t15\t4416\t8792\t3730\t14536\t9314\t17437\t6100\t66292\t59705\t301696\t237745\t0\t0\r\n",
      "FFQ\t46\t0\t0\t0\t0\t0\t0\t0\t0\t0\t0\t0\t0\t108\t74\t13181\t5454\t7836\t2140\t3060\t0\t1572\t0\t0\t0\t47\t19\t34\t453\t15\t4659\t8893\t3963\t13753\t9202\t17066\t6075\t67501\t59800\t301943\t237520\t0\t0\r\n",
      "FFQ\t47\t0\t0\t0\t0\t0\t0\t0\t0\t0\t0\t0\t0\t116\t67\t12555\t5097\t7364\t1852\t2759\t0\t1346\t0\t0\t0\t46\t17\t39\t545\t14\t5063\t8801\t4083\t12635\t9093\t16731\t6025\t67155\t59627\t303620\t239528\t0\t0\r\n",
      "FFQ\t48\t0\t0\t0\t0\t0\t0\t0\t0\t0\t0\t0\t0\t135\t67\t12340\t4626\t7052\t1741\t2684\t0\t1242\t0\t0\t0\t41\t27\t40\t560\t14\t5049\t8461\t4301\t11357\t8758\t16490\t5851\t65917\t58962\t304737\t243565\t0\t0\r\n",
      "FFQ\t49\t0\t0\t0\t0\t0\t0\t0\t0\t0\t0\t0\t0\t149\t91\t14098\t5122\t8039\t1897\t3227\t0\t1330\t0\t0\t0\t45\t18\t35\t627\t22\t5291\t9133\t4716\t11211\t9007\t17783\t6168\t65339\t58914\t302651\t238931\t0\t0\r\n",
      "FFQ\t50\t0\t0\t0\t0\t0\t0\t0\t0\t0\t0\t0\t0\t186\t83\t15935\t5895\t9169\t2101\t3948\t0\t1633\t0\t0\t0\t49\t35\t38\t810\t10\t6184\t10491\t5164\t11550\t10223\t18500\t6777\t67640\t61392\t294988\t230881\t0\t0\r\n",
      "FFQ\t51\t0\t0\t0\t0\t0\t0\t0\t0\t0\t0\t0\t0\t185\t77\t14320\t4815\t7851\t1788\t3405\t0\t1318\t0\t0\t0\t54\t34\t43\t986\t11\t6901\t9722\t5506\t10684\t10392\t16933\t6458\t70350\t63124\t294560\t232302\t0\t0\r\n",
      "FFQ\t52\t0\t0\t0\t0\t0\t0\t0\t0\t0\t0\t0\t0\t180\t79\t13670\t4253\t7194\t1616\t3092\t0\t1115\t0\t0\t0\t54\t38\t63\t1050\t16\t6394\t9207\t5441\t9462\t9451\t17183\t6125\t68615\t60816\t299266\t235489\t0\t0\r\n",
      "FFQ\t53\t0\t0\t0\t0\t0\t0\t0\t0\t0\t0\t0\t0\t203\t110\t14668\t4418\t7584\t1706\t3342\t0\t1118\t0\t0\t0\t54\t36\t39\t1089\t16\t6245\t9988\t5561\t8898\t9107\t18359\t6464\t65148\t58857\t299930\t234946\t0\t0\r\n",
      "FFQ\t54\t0\t0\t0\t0\t0\t0\t0\t0\t0\t0\t0\t0\t219\t95\t15679\t4607\t7807\t1639\t3577\t0\t1222\t0\t0\t0\t42\t39\t42\t1219\t25\t6544\t10193\t5786\t8528\t9586\t18611\t6759\t64110\t59388\t296901\t233192\t0\t0\r\n",
      "FFQ\t55\t0\t0\t0\t0\t0\t0\t0\t0\t0\t0\t0\t0\t201\t94\t15123\t4069\t7267\t1674\t3432\t0\t1062\t0\t0\t0\t65\t38\t50\t1453\t23\t6873\t9993\t6043\t8137\t10010\t18270\t6630\t65984\t59982\t296063\t231029\t0\t0\r\n",
      "FFQ\t56\t0\t0\t0\t0\t0\t0\t0\t0\t0\t0\t0\t0\t253\t114\t14213\t3515\t6531\t1475\t3102\t0\t848\t0\t0\t0\t53\t50\t43\t1581\t21\t6642\t9706\t5991\t7267\t9135\t18119\t6655\t63747\t58645\t299698\t233829\t0\t0\r\n",
      "FFQ\t57\t0\t0\t0\t0\t0\t0\t0\t0\t0\t0\t0\t0\t255\t113\t14322\t3638\t6657\t1498\t3166\t0\t816\t0\t0\t0\t60\t44\t43\t1688\t21\t6203\t9860\t6014\t6726\t8896\t18509\t6675\t60887\t57437\t298546\t236763\t0\t0\r\n",
      "FFQ\t58\t0\t0\t0\t0\t0\t0\t0\t0\t0\t0\t0\t0\t323\t122\t15468\t3623\t6938\t1601\t2715\t685\t870\t0\t0\t0\t41\t42\t46\t1843\t32\t6443\t10609\t6183\t6802\t9485\t19419\t6957\t60618\t58235\t295614\t231391\t352\t0\r\n",
      "FFQ\t59\t0\t0\t0\t0\t0\t0\t0\t0\t0\t0\t0\t0\t316\t147\t15154\t3540\t6400\t1594\t2667\t693\t731\t0\t0\t0\t69\t44\t53\t2000\t22\t6201\t10186\t6219\t6345\t9116\t19565\t7290\t59819\t56913\t296457\t232460\t249\t0\r\n",
      "FFQ\t60\t0\t0\t0\t0\t0\t0\t0\t0\t0\t0\t0\t0\t342\t164\t15617\t3444\t6698\t1624\t2780\t762\t717\t0\t0\t0\t47\t36\t46\t2198\t19\t6273\t10643\t6509\t6318\t9572\t20038\t7472\t58509\t57551\t292211\t232222\t202\t0\r\n",
      "FFQ\t61\t0\t0\t0\t0\t0\t0\t0\t0\t0\t0\t0\t0\t391\t180\t15762\t3400\t6440\t1625\t2731\t777\t643\t0\t0\t0\t41\t48\t47\t2372\t30\t6130\t10542\t6635\t6093\t9345\t20452\t7535\t57561\t56960\t293862\t229923\t152\t0\r\n"
     ]
    }
   ],
   "source": [
    "!samtools stats TAP1.sorted.bam | head -100"
   ]
  },
  {
   "cell_type": "markdown",
   "metadata": {},
   "source": [
    "We can look for the longest reads:"
   ]
  },
  {
   "cell_type": "code",
   "execution_count": 12,
   "metadata": {
    "collapsed": false
   },
   "outputs": [
    {
     "name": "stdout",
     "output_type": "stream",
     "text": [
      "SN\tmaximum length:\t250\r\n"
     ]
    }
   ],
   "source": [
    "!samtools stats TAP1.sorted.bam | grep \"maximum length\""
   ]
  },
  {
   "cell_type": "markdown",
   "metadata": {},
   "source": [
    "Or the insert size:"
   ]
  },
  {
   "cell_type": "code",
   "execution_count": 11,
   "metadata": {
    "collapsed": false
   },
   "outputs": [
    {
     "name": "stdout",
     "output_type": "stream",
     "text": [
      "SN\tinsert size average:\t306.3\r\n",
      "SN\tinsert size standard deviation:\t141.5\r\n",
      "# Insert sizes. Use `grep ^IS | cut -f 2-` to extract this part. The columns are: insert size, pairs total, inward oriented pairs, outward oriented pairs, other pairs\r\n"
     ]
    }
   ],
   "source": [
    "!samtools stats TAP1.sorted.bam | grep \"insert size\""
   ]
  },
  {
   "cell_type": "markdown",
   "metadata": {},
   "source": [
    "We can plot the coverage distribution in R:"
   ]
  },
  {
   "cell_type": "code",
   "execution_count": 14,
   "metadata": {
    "collapsed": false
   },
   "outputs": [],
   "source": [
    "!samtools stats TAP1.sorted.bam | grep \"^COV\" > TAP1.coverage.txt"
   ]
  },
  {
   "cell_type": "code",
   "execution_count": 15,
   "metadata": {
    "collapsed": false
   },
   "outputs": [
    {
     "name": "stderr",
     "output_type": "stream",
     "text": [
      "/Library/Python/2.7/site-packages/rpy2-2.7.4-py2.7-macosx-10.11-intel.egg/rpy2/ipython/rmagic.py:68: UserWarning: The Python package 'pandas' is stronglyrecommended when using `rpy2.ipython`. Unfortunately it could not be loaded, but at least we found 'numpy'.\n",
      "  \"but at least we found 'numpy'.\")))\n"
     ]
    }
   ],
   "source": [
    "%load_ext rpy2.ipython"
   ]
  },
  {
   "cell_type": "code",
   "execution_count": 22,
   "metadata": {
    "collapsed": false
   },
   "outputs": [
    {
     "data": {
      "image/png": "[encoded data removed]"
     },
     "metadata": {},
     "output_type": "display_data"
    }
   ],
   "source": [
    "%%R\n",
    "library(ggplot2)\n",
    "cov=read.table(\"TAP1.coverage.txt\", sep=\"\\t\")\n",
    "cov[1,]\n",
    "ggplot(cov, aes(x=V3, y=V4)) + geom_histogram(stat=\"identity\") + xlab(\"Coverage\") + ylab(\"Count\")"
   ]
  },
  {
   "cell_type": "code",
   "execution_count": 23,
   "metadata": {
    "collapsed": false
   },
   "outputs": [
    {
     "name": "stderr",
     "output_type": "stream",
     "text": [
      "[M::bwa_idx_load_from_disk] read 0 ALT contigs\n",
      "[M::process] read 263854 sequences (40000445 bp)...\n",
      "[M::process] read 257252 sequences (40000316 bp)...\n",
      "[M::mem_pestat] # candidate unique pairs for (FF, FR, RF, RR): (207, 121137, 1, 127)\n",
      "[M::mem_pestat] analyzing insert size distribution for orientation FF...\n",
      "[M::mem_pestat] (25, 50, 75) percentile: (85, 167, 284)\n",
      "[M::mem_pestat] low and high boundaries for computing mean and std.dev: (1, 682)\n",
      "[M::mem_pestat] mean and std.dev: (191.50, 133.46)\n",
      "[M::mem_pestat] low and high boundaries for proper pairs: (1, 881)\n",
      "[M::mem_pestat] analyzing insert size distribution for orientation FR...\n",
      "[M::mem_pestat] (25, 50, 75) percentile: (112, 171, 261)\n",
      "[M::mem_pestat] low and high boundaries for computing mean and std.dev: (1, 559)\n",
      "[M::mem_pestat] mean and std.dev: (194.36, 108.40)\n",
      "[M::mem_pestat] low and high boundaries for proper pairs: (1, 708)\n",
      "[M::mem_pestat] skip orientation RF as there are not enough pairs\n",
      "[M::mem_pestat] analyzing insert size distribution for orientation RR...\n",
      "[M::mem_pestat] (25, 50, 75) percentile: (99, 155, 239)\n",
      "[M::mem_pestat] low and high boundaries for computing mean and std.dev: (1, 519)\n",
      "[M::mem_pestat] mean and std.dev: (165.67, 106.36)\n",
      "[M::mem_pestat] low and high boundaries for proper pairs: (1, 659)\n",
      "[M::mem_pestat] skip orientation FF\n",
      "[M::mem_pestat] skip orientation RR\n",
      "[M::mem_process_seqs] Processed 263854 reads in 17.946 CPU sec, 4.333 real sec\n",
      "[M::mem_pestat] # candidate unique pairs for (FF, FR, RF, RR): (191, 118246, 1, 132)\n",
      "[M::mem_pestat] analyzing insert size distribution for orientation FF...\n",
      "[M::mem_pestat] (25, 50, 75) percentile: (111, 180, 313)\n",
      "[M::mem_pestat] low and high boundaries for computing mean and std.dev: (1, 717)\n",
      "[M::mem_pestat] mean and std.dev: (212.07, 133.28)\n",
      "[M::mem_pestat] low and high boundaries for proper pairs: (1, 919)\n",
      "[M::mem_pestat] analyzing insert size distribution for orientation FR...\n",
      "[M::mem_pestat] (25, 50, 75) percentile: (120, 183, 279)\n",
      "[M::mem_pestat] low and high boundaries for computing mean and std.dev: (1, 597)\n",
      "[M::mem_pestat] mean and std.dev: (208.16, 115.91)\n",
      "[M::mem_pestat] low and high boundaries for proper pairs: (1, 756)\n",
      "[M::mem_pestat] skip orientation RF as there are not enough pairs\n",
      "[M::mem_pestat] analyzing insert size distribution for orientation RR...\n",
      "[M::mem_pestat] (25, 50, 75) percentile: (102, 175, 266)\n",
      "[M::mem_pestat] low and high boundaries for computing mean and std.dev: (1, 594)\n",
      "[M::mem_pestat] mean and std.dev: (182.64, 105.80)\n",
      "[M::mem_pestat] low and high boundaries for proper pairs: (1, 758)\n",
      "[M::mem_pestat] skip orientation FF\n",
      "[M::mem_pestat] skip orientation RR\n",
      "[M::mem_process_seqs] Processed 257252 reads in 20.446 CPU sec, 5.159 real sec\n",
      "[M::process] read 250250 sequences (40000096 bp)...\n",
      "[M::mem_pestat] # candidate unique pairs for (FF, FR, RF, RR): (248, 114689, 3, 150)\n",
      "[M::mem_pestat] analyzing insert size distribution for orientation FF...\n",
      "[M::mem_pestat] (25, 50, 75) percentile: (117, 212, 312)\n",
      "[M::mem_pestat] low and high boundaries for computing mean and std.dev: (1, 702)\n",
      "[M::mem_pestat] mean and std.dev: (226.97, 135.53)\n",
      "[M::mem_pestat] low and high boundaries for proper pairs: (1, 897)\n",
      "[M::mem_pestat] analyzing insert size distribution for orientation FR...\n",
      "[M::mem_pestat] (25, 50, 75) percentile: (128, 195, 296)\n",
      "[M::mem_pestat] low and high boundaries for computing mean and std.dev: (1, 632)\n",
      "[M::mem_pestat] mean and std.dev: (220.55, 122.77)\n",
      "[M::mem_pestat] low and high boundaries for proper pairs: (1, 800)\n",
      "[M::mem_pestat] skip orientation RF as there are not enough pairs\n",
      "[M::mem_pestat] analyzing insert size distribution for orientation RR...\n",
      "[M::mem_pestat] (25, 50, 75) percentile: (147, 203, 318)\n",
      "[M::mem_pestat] low and high boundaries for computing mean and std.dev: (1, 660)\n",
      "[M::mem_pestat] mean and std.dev: (219.47, 125.51)\n",
      "[M::mem_pestat] low and high boundaries for proper pairs: (1, 831)\n",
      "[M::mem_pestat] skip orientation FF\n",
      "[M::mem_pestat] skip orientation RR\n",
      "[M::mem_process_seqs] Processed 250250 reads in 23.970 CPU sec, 6.362 real sec\n",
      "[M::process] read 252436 sequences (40000204 bp)...\n",
      "[M::mem_pestat] # candidate unique pairs for (FF, FR, RF, RR): (265, 115999, 1, 123)\n",
      "[M::mem_pestat] analyzing insert size distribution for orientation FF...\n",
      "[M::mem_pestat] (25, 50, 75) percentile: (110, 201, 331)\n",
      "[M::mem_pestat] low and high boundaries for computing mean and std.dev: (1, 773)\n",
      "[M::mem_pestat] mean and std.dev: (225.34, 152.34)\n",
      "[M::mem_pestat] low and high boundaries for proper pairs: (1, 994)\n",
      "[M::mem_pestat] analyzing insert size distribution for orientation FR...\n",
      "[M::mem_pestat] (25, 50, 75) percentile: (120, 188, 295)\n",
      "[M::mem_pestat] low and high boundaries for computing mean and std.dev: (1, 645)\n",
      "[M::mem_pestat] mean and std.dev: (217.17, 127.88)\n",
      "[M::mem_pestat] low and high boundaries for proper pairs: (1, 820)\n",
      "[M::mem_pestat] skip orientation RF as there are not enough pairs\n",
      "[M::mem_pestat] analyzing insert size distribution for orientation RR...\n",
      "[M::mem_pestat] (25, 50, 75) percentile: (104, 179, 319)\n",
      "[M::mem_pestat] low and high boundaries for computing mean and std.dev: (1, 749)\n",
      "[M::mem_pestat] mean and std.dev: (208.76, 141.98)\n",
      "[M::mem_pestat] low and high boundaries for proper pairs: (1, 964)\n",
      "[M::mem_pestat] skip orientation FF\n",
      "[M::mem_pestat] skip orientation RR\n",
      "[M::mem_process_seqs] Processed 252436 reads in 22.752 CPU sec, 5.752 real sec\n",
      "[M::process] read 251998 sequences (40000003 bp)...\n",
      "[M::mem_pestat] # candidate unique pairs for (FF, FR, RF, RR): (237, 115794, 3, 151)\n",
      "[M::mem_pestat] analyzing insert size distribution for orientation FF...\n",
      "[M::mem_pestat] (25, 50, 75) percentile: (114, 180, 334)\n",
      "[M::mem_pestat] low and high boundaries for computing mean and std.dev: (1, 774)\n",
      "[M::mem_pestat] mean and std.dev: (230.36, 161.43)\n",
      "[M::mem_pestat] low and high boundaries for proper pairs: (1, 994)\n",
      "[M::mem_pestat] analyzing insert size distribution for orientation FR...\n",
      "[M::mem_pestat] (25, 50, 75) percentile: (120, 188, 297)\n",
      "[M::mem_pestat] low and high boundaries for computing mean and std.dev: (1, 651)\n",
      "[M::mem_pestat] mean and std.dev: (217.89, 129.64)\n",
      "[M::mem_pestat] low and high boundaries for proper pairs: (1, 828)\n",
      "[M::mem_pestat] skip orientation RF as there are not enough pairs\n",
      "[M::mem_pestat] analyzing insert size distribution for orientation RR...\n",
      "[M::mem_pestat] (25, 50, 75) percentile: (102, 162, 275)\n",
      "[M::mem_pestat] low and high boundaries for computing mean and std.dev: (1, 621)\n",
      "[M::mem_pestat] mean and std.dev: (194.74, 129.25)\n",
      "[M::mem_pestat] low and high boundaries for proper pairs: (1, 794)\n",
      "[M::mem_pestat] skip orientation FF\n",
      "[M::mem_pestat] skip orientation RR\n",
      "[M::mem_process_seqs] Processed 251998 reads in 23.099 CPU sec, 5.904 real sec\n",
      "[M::process] read 246002 sequences (39951800 bp)...\n",
      "[M::mem_pestat] # candidate unique pairs for (FF, FR, RF, RR): (271, 112806, 3, 143)\n",
      "[M::mem_pestat] analyzing insert size distribution for orientation FF...\n",
      "[M::mem_pestat] (25, 50, 75) percentile: (136, 202, 342)\n",
      "[M::mem_pestat] low and high boundaries for computing mean and std.dev: (1, 754)\n",
      "[M::mem_pestat] mean and std.dev: (235.11, 145.43)\n",
      "[M::mem_pestat] low and high boundaries for proper pairs: (1, 960)\n",
      "[M::mem_pestat] analyzing insert size distribution for orientation FR...\n",
      "[M::mem_pestat] (25, 50, 75) percentile: (126, 199, 315)\n",
      "[M::mem_pestat] low and high boundaries for computing mean and std.dev: (1, 693)\n",
      "[M::mem_pestat] mean and std.dev: (230.34, 137.88)\n",
      "[M::mem_pestat] low and high boundaries for proper pairs: (1, 882)\n",
      "[M::mem_pestat] skip orientation RF as there are not enough pairs\n",
      "[M::mem_pestat] analyzing insert size distribution for orientation RR...\n",
      "[M::mem_pestat] (25, 50, 75) percentile: (115, 202, 350)\n",
      "[M::mem_pestat] low and high boundaries for computing mean and std.dev: (1, 820)\n",
      "[M::mem_pestat] mean and std.dev: (234.01, 164.94)\n",
      "[M::mem_pestat] low and high boundaries for proper pairs: (1, 1055)\n",
      "[M::mem_pestat] skip orientation FF\n",
      "[M::mem_pestat] skip orientation RR\n",
      "[M::mem_process_seqs] Processed 246002 reads in 24.195 CPU sec, 6.166 real sec\n",
      "[main] Version: 0.7.12-r1039\n",
      "[main] CMD: bwa mem -t 4 -R @RG\\tID:TAP2\\tSM:TAP2 ST17.fasta TAP2_R1_paired.fastq.gz TAP2_R2_paired.fastq.gz\n",
      "[main] Real time: 52.097 sec; CPU: 136.386 sec\n",
      "[M::bwa_idx_load_from_disk] read 0 ALT contigs\n",
      "[M::process] read 242274 sequences (40000084 bp)...\n",
      "[M::process] read 242350 sequences (40000056 bp)...\n",
      "[M::mem_pestat] # candidate unique pairs for (FF, FR, RF, RR): (477, 98477, 14, 272)\n",
      "[M::mem_pestat] analyzing insert size distribution for orientation FF...\n",
      "[M::mem_pestat] (25, 50, 75) percentile: (204, 307, 451)\n",
      "[M::mem_pestat] low and high boundaries for computing mean and std.dev: (1, 945)\n",
      "[M::mem_pestat] mean and std.dev: (331.23, 175.93)\n",
      "[M::mem_pestat] low and high boundaries for proper pairs: (1, 1192)\n",
      "[M::mem_pestat] analyzing insert size distribution for orientation FR...\n",
      "[M::mem_pestat] (25, 50, 75) percentile: (299, 410, 543)\n",
      "[M::mem_pestat] low and high boundaries for computing mean and std.dev: (1, 1031)\n",
      "[M::mem_pestat] mean and std.dev: (427.91, 186.07)\n",
      "[M::mem_pestat] low and high boundaries for proper pairs: (1, 1275)\n",
      "[M::mem_pestat] analyzing insert size distribution for orientation RF...\n",
      "[M::mem_pestat] (25, 50, 75) percentile: (125, 1271, 2890)\n",
      "[M::mem_pestat] low and high boundaries for computing mean and std.dev: (1, 8420)\n",
      "[M::mem_pestat] mean and std.dev: (1961.00, 2364.35)\n",
      "[M::mem_pestat] low and high boundaries for proper pairs: (1, 11185)\n",
      "[M::mem_pestat] analyzing insert size distribution for orientation RR...\n",
      "[M::mem_pestat] (25, 50, 75) percentile: (176, 270, 430)\n",
      "[M::mem_pestat] low and high boundaries for computing mean and std.dev: (1, 938)\n",
      "[M::mem_pestat] mean and std.dev: (296.42, 165.46)\n",
      "[M::mem_pestat] low and high boundaries for proper pairs: (1, 1192)\n",
      "[M::mem_pestat] skip orientation FF\n",
      "[M::mem_pestat] skip orientation RF\n",
      "[M::mem_pestat] skip orientation RR\n",
      "[M::mem_process_seqs] Processed 242274 reads in 25.662 CPU sec, 6.278 real sec\n",
      "[M::mem_pestat] # candidate unique pairs for (FF, FR, RF, RR): (457, 98329, 7, 281)\n",
      "[M::mem_pestat] analyzing insert size distribution for orientation FF...\n",
      "[M::mem_pestat] (25, 50, 75) percentile: (199, 292, 438)\n",
      "[M::mem_pestat] low and high boundaries for computing mean and std.dev: (1, 916)\n",
      "[M::mem_pestat] mean and std.dev: (329.77, 178.33)\n",
      "[M::mem_pestat] low and high boundaries for proper pairs: (1, 1155)\n",
      "[M::mem_pestat] analyzing insert size distribution for orientation FR...\n",
      "[M::mem_pestat] (25, 50, 75) percentile: (300, 412, 544)\n",
      "[M::mem_pestat] low and high boundaries for computing mean and std.dev: (1, 1032)\n",
      "[M::mem_pestat] mean and std.dev: (430.06, 187.00)\n",
      "[M::mem_pestat] low and high boundaries for proper pairs: (1, 1276)\n",
      "[M::mem_pestat] skip orientation RF as there are not enough pairs\n",
      "[M::mem_pestat] analyzing insert size distribution for orientation RR...\n",
      "[M::mem_pestat] (25, 50, 75) percentile: (182, 275, 423)\n",
      "[M::mem_pestat] low and high boundaries for computing mean and std.dev: (1, 905)\n",
      "[M::mem_pestat] mean and std.dev: (302.27, 166.82)\n",
      "[M::mem_pestat] low and high boundaries for proper pairs: (1, 1146)\n",
      "[M::mem_pestat] skip orientation FF\n",
      "[M::mem_pestat] skip orientation RR\n",
      "[M::mem_process_seqs] Processed 242350 reads in 32.368 CPU sec, 8.297 real sec\n",
      "[M::process] read 244818 sequences (40000199 bp)...\n",
      "[M::mem_pestat] # candidate unique pairs for (FF, FR, RF, RR): (435, 99030, 7, 292)\n",
      "[M::mem_pestat] analyzing insert size distribution for orientation FF...\n",
      "[M::mem_pestat] (25, 50, 75) percentile: (189, 277, 439)\n",
      "[M::mem_pestat] low and high boundaries for computing mean and std.dev: (1, 939)\n",
      "[M::mem_pestat] mean and std.dev: (311.16, 178.67)\n",
      "[M::mem_pestat] low and high boundaries for proper pairs: (1, 1189)\n",
      "[M::mem_pestat] analyzing insert size distribution for orientation FR...\n",
      "[M::mem_pestat] (25, 50, 75) percentile: (306, 417, 552)\n",
      "[M::mem_pestat] low and high boundaries for computing mean and std.dev: (1, 1044)\n",
      "[M::mem_pestat] mean and std.dev: (436.49, 187.56)\n",
      "[M::mem_pestat] low and high boundaries for proper pairs: (1, 1290)\n",
      "[M::mem_pestat] skip orientation RF as there are not enough pairs\n",
      "[M::mem_pestat] analyzing insert size distribution for orientation RR...\n",
      "[M::mem_pestat] (25, 50, 75) percentile: (194, 278, 419)\n",
      "[M::mem_pestat] low and high boundaries for computing mean and std.dev: (1, 869)\n",
      "[M::mem_pestat] mean and std.dev: (305.48, 157.51)\n",
      "[M::mem_pestat] low and high boundaries for proper pairs: (1, 1094)\n",
      "[M::mem_pestat] skip orientation FF\n",
      "[M::mem_pestat] skip orientation RR\n",
      "[M::mem_process_seqs] Processed 244818 reads in 30.404 CPU sec, 7.708 real sec\n",
      "[M::process] read 241422 sequences (40000305 bp)...\n",
      "[M::mem_pestat] # candidate unique pairs for (FF, FR, RF, RR): (464, 98221, 8, 280)\n",
      "[M::mem_pestat] analyzing insert size distribution for orientation FF...\n",
      "[M::mem_pestat] (25, 50, 75) percentile: (201, 307, 458)\n",
      "[M::mem_pestat] low and high boundaries for computing mean and std.dev: (1, 972)\n",
      "[M::mem_pestat] mean and std.dev: (338.55, 193.57)\n",
      "[M::mem_pestat] low and high boundaries for proper pairs: (1, 1229)\n",
      "[M::mem_pestat] analyzing insert size distribution for orientation FR...\n",
      "[M::mem_pestat] (25, 50, 75) percentile: (310, 424, 566)\n",
      "[M::mem_pestat] low and high boundaries for computing mean and std.dev: (1, 1078)\n",
      "[M::mem_pestat] mean and std.dev: (445.98, 196.44)\n",
      "[M::mem_pestat] low and high boundaries for proper pairs: (1, 1334)\n",
      "[M::mem_pestat] skip orientation RF as there are not enough pairs\n",
      "[M::mem_pestat] analyzing insert size distribution for orientation RR...\n",
      "[M::mem_pestat] (25, 50, 75) percentile: (189, 281, 454)\n",
      "[M::mem_pestat] low and high boundaries for computing mean and std.dev: (1, 984)\n",
      "[M::mem_pestat] mean and std.dev: (313.58, 167.92)\n",
      "[M::mem_pestat] low and high boundaries for proper pairs: (1, 1249)\n",
      "[M::mem_pestat] skip orientation FF\n",
      "[M::mem_pestat] skip orientation RR\n",
      "[M::mem_process_seqs] Processed 241422 reads in 31.521 CPU sec, 7.961 real sec\n",
      "[M::process] read 242310 sequences (40000334 bp)...\n",
      "[M::mem_pestat] # candidate unique pairs for (FF, FR, RF, RR): (468, 98193, 10, 311)\n",
      "[M::mem_pestat] analyzing insert size distribution for orientation FF...\n",
      "[M::mem_pestat] (25, 50, 75) percentile: (209, 324, 484)\n",
      "[M::mem_pestat] low and high boundaries for computing mean and std.dev: (1, 1034)\n",
      "[M::mem_pestat] mean and std.dev: (353.52, 196.82)\n",
      "[M::mem_pestat] low and high boundaries for proper pairs: (1, 1309)\n",
      "[M::mem_pestat] analyzing insert size distribution for orientation FR...\n",
      "[M::mem_pestat] (25, 50, 75) percentile: (314, 428, 571)\n",
      "[M::mem_pestat] low and high boundaries for computing mean and std.dev: (1, 1085)\n",
      "[M::mem_pestat] mean and std.dev: (451.02, 197.00)\n",
      "[M::mem_pestat] low and high boundaries for proper pairs: (1, 1342)\n",
      "[M::mem_pestat] analyzing insert size distribution for orientation RF...\n",
      "[M::mem_pestat] (25, 50, 75) percentile: (411, 1198, 3806)\n",
      "[M::mem_pestat] low and high boundaries for computing mean and std.dev: (1, 10596)\n",
      "[M::mem_pestat] mean and std.dev: (2596.60, 2627.31)\n",
      "[M::mem_pestat] low and high boundaries for proper pairs: (1, 13991)\n",
      "[M::mem_pestat] analyzing insert size distribution for orientation RR...\n",
      "[M::mem_pestat] (25, 50, 75) percentile: (194, 311, 479)\n",
      "[M::mem_pestat] low and high boundaries for computing mean and std.dev: (1, 1049)\n",
      "[M::mem_pestat] mean and std.dev: (344.47, 200.89)\n",
      "[M::mem_pestat] low and high boundaries for proper pairs: (1, 1334)\n",
      "[M::mem_pestat] skip orientation FF\n",
      "[M::mem_pestat] skip orientation RF\n",
      "[M::mem_pestat] skip orientation RR\n",
      "[M::mem_process_seqs] Processed 242310 reads in 31.942 CPU sec, 8.067 real sec\n",
      "[M::process] read 175544 sequences (28935835 bp)...\n",
      "[M::mem_pestat] # candidate unique pairs for (FF, FR, RF, RR): (322, 70820, 10, 224)\n",
      "[M::mem_pestat] analyzing insert size distribution for orientation FF...\n",
      "[M::mem_pestat] (25, 50, 75) percentile: (219, 361, 503)\n",
      "[M::mem_pestat] low and high boundaries for computing mean and std.dev: (1, 1071)\n",
      "[M::mem_pestat] mean and std.dev: (377.66, 205.85)\n",
      "[M::mem_pestat] low and high boundaries for proper pairs: (1, 1355)\n",
      "[M::mem_pestat] analyzing insert size distribution for orientation FR...\n",
      "[M::mem_pestat] (25, 50, 75) percentile: (320, 433, 575)\n",
      "[M::mem_pestat] low and high boundaries for computing mean and std.dev: (1, 1085)\n",
      "[M::mem_pestat] mean and std.dev: (456.31, 196.65)\n",
      "[M::mem_pestat] low and high boundaries for proper pairs: (1, 1340)\n",
      "[M::mem_pestat] analyzing insert size distribution for orientation RF...\n",
      "[M::mem_pestat] (25, 50, 75) percentile: (628, 807, 1201)\n",
      "[M::mem_pestat] low and high boundaries for computing mean and std.dev: (1, 2347)\n",
      "[M::mem_pestat] mean and std.dev: (672.62, 308.90)\n",
      "[M::mem_pestat] low and high boundaries for proper pairs: (1, 2920)\n",
      "[M::mem_pestat] analyzing insert size distribution for orientation RR...\n",
      "[M::mem_pestat] (25, 50, 75) percentile: (198, 295, 442)\n",
      "[M::mem_pestat] low and high boundaries for computing mean and std.dev: (1, 930)\n",
      "[M::mem_pestat] mean and std.dev: (327.79, 179.22)\n",
      "[M::mem_pestat] low and high boundaries for proper pairs: (1, 1174)\n",
      "[M::mem_pestat] skip orientation FF\n",
      "[M::mem_pestat] skip orientation RF\n",
      "[M::mem_pestat] skip orientation RR\n",
      "[M::mem_process_seqs] Processed 175544 reads in 24.196 CPU sec, 6.140 real sec\n",
      "[main] Version: 0.7.12-r1039\n",
      "[main] CMD: bwa mem -t 4 -R @RG\\tID:TAP3\\tSM:TAP3 ST17.fasta TAP3_R1_paired.fastq.gz TAP3_R2_paired.fastq.gz\n",
      "[main] Real time: 56.807 sec; CPU: 179.671 sec\n",
      "[M::bwa_idx_load_from_disk] read 0 ALT contigs\n",
      "[E::main_mem] fail to open file `PATIENT1_R1_paired.fastq.gz'.\n",
      "[M::bwa_idx_load_from_disk] read 0 ALT contigs\n",
      "[E::main_mem] fail to open file `PATIENT2_R1_paired.fastq.gz'.\n"
     ]
    }
   ],
   "source": [
    "%%bash\n",
    "bwa mem -t 4 -R '@RG\\tID:TAP2\\tSM:TAP2' ST17.fasta TAP2_R1_paired.fastq.gz TAP2_R2_paired.fastq.gz |\n",
    "  samtools view -bS - |\n",
    "  samtools sort - TAP2.sorted\n",
    "  \n",
    "samtools index TAP2.sorted.bam\n",
    "\n",
    "bwa mem -t 4 -R '@RG\\tID:TAP3\\tSM:TAP3' ST17.fasta TAP3_R1_paired.fastq.gz TAP3_R2_paired.fastq.gz |\n",
    "  samtools view -bS - |\n",
    "  samtools sort - TAP3.sorted\n",
    "  \n",
    "samtools index TAP3.sorted.bam"
   ]
  },
  {
   "cell_type": "code",
   "execution_count": 33,
   "metadata": {
    "collapsed": false
   },
   "outputs": [
    {
     "name": "stderr",
     "output_type": "stream",
     "text": [
      "[M::bwa_idx_load_from_disk] read 0 ALT contigs\n",
      "[M::process] read 211430 sequences (40000298 bp)...\n",
      "[M::process] read 203188 sequences (40000170 bp)...\n",
      "[M::mem_pestat] # candidate unique pairs for (FF, FR, RF, RR): (585, 95684, 6, 291)\n",
      "[M::mem_pestat] analyzing insert size distribution for orientation FF...\n",
      "[M::mem_pestat] (25, 50, 75) percentile: (242, 364, 503)\n",
      "[M::mem_pestat] low and high boundaries for computing mean and std.dev: (1, 1025)\n",
      "[M::mem_pestat] mean and std.dev: (375.93, 184.38)\n",
      "[M::mem_pestat] low and high boundaries for proper pairs: (1, 1286)\n",
      "[M::mem_pestat] analyzing insert size distribution for orientation FR...\n",
      "[M::mem_pestat] (25, 50, 75) percentile: (338, 448, 563)\n",
      "[M::mem_pestat] low and high boundaries for computing mean and std.dev: (1, 1013)\n",
      "[M::mem_pestat] mean and std.dev: (452.40, 173.08)\n",
      "[M::mem_pestat] low and high boundaries for proper pairs: (1, 1238)\n",
      "[M::mem_pestat] skip orientation RF as there are not enough pairs\n",
      "[M::mem_pestat] analyzing insert size distribution for orientation RR...\n",
      "[M::mem_pestat] (25, 50, 75) percentile: (204, 295, 416)\n",
      "[M::mem_pestat] low and high boundaries for computing mean and std.dev: (1, 840)\n",
      "[M::mem_pestat] mean and std.dev: (299.74, 140.06)\n",
      "[M::mem_pestat] low and high boundaries for proper pairs: (1, 1052)\n",
      "[M::mem_pestat] skip orientation FF\n",
      "[M::mem_pestat] skip orientation RR\n",
      "[M::mem_process_seqs] Processed 211430 reads in 19.238 CPU sec, 4.683 real sec\n",
      "[M::mem_pestat] # candidate unique pairs for (FF, FR, RF, RR): (519, 92103, 9, 260)\n",
      "[M::mem_pestat] analyzing insert size distribution for orientation FF...\n",
      "[M::mem_pestat] (25, 50, 75) percentile: (254, 365, 504)\n",
      "[M::mem_pestat] low and high boundaries for computing mean and std.dev: (1, 1004)\n",
      "[M::mem_pestat] mean and std.dev: (380.48, 186.44)\n",
      "[M::mem_pestat] low and high boundaries for proper pairs: (1, 1254)\n",
      "[M::mem_pestat] analyzing insert size distribution for orientation FR...\n",
      "[M::mem_pestat] (25, 50, 75) percentile: (357, 472, 598)\n",
      "[M::mem_pestat] low and high boundaries for computing mean and std.dev: (1, 1080)\n",
      "[M::mem_pestat] mean and std.dev: (479.21, 185.25)\n",
      "[M::mem_pestat] low and high boundaries for proper pairs: (1, 1321)\n",
      "[M::mem_pestat] skip orientation RF as there are not enough pairs\n",
      "[M::mem_pestat] analyzing insert size distribution for orientation RR...\n",
      "[M::mem_pestat] (25, 50, 75) percentile: (230, 341, 483)\n",
      "[M::mem_pestat] low and high boundaries for computing mean and std.dev: (1, 989)\n",
      "[M::mem_pestat] mean and std.dev: (354.27, 180.92)\n",
      "[M::mem_pestat] low and high boundaries for proper pairs: (1, 1242)\n",
      "[M::mem_pestat] skip orientation FF\n",
      "[M::mem_pestat] skip orientation RR\n",
      "[M::mem_process_seqs] Processed 203188 reads in 20.261 CPU sec, 5.141 real sec\n",
      "[M::process] read 203766 sequences (40000042 bp)...\n",
      "[M::mem_pestat] # candidate unique pairs for (FF, FR, RF, RR): (549, 92533, 4, 271)\n",
      "[M::mem_pestat] analyzing insert size distribution for orientation FF...\n",
      "[M::mem_pestat] (25, 50, 75) percentile: (255, 366, 546)\n",
      "[M::mem_pestat] low and high boundaries for computing mean and std.dev: (1, 1128)\n",
      "[M::mem_pestat] mean and std.dev: (402.81, 217.33)\n",
      "[M::mem_pestat] low and high boundaries for proper pairs: (1, 1419)\n",
      "[M::mem_pestat] analyzing insert size distribution for orientation FR...\n",
      "[M::mem_pestat] (25, 50, 75) percentile: (367, 483, 615)\n",
      "[M::mem_pestat] low and high boundaries for computing mean and std.dev: (1, 1111)\n",
      "[M::mem_pestat] mean and std.dev: (495.27, 193.68)\n",
      "[M::mem_pestat] low and high boundaries for proper pairs: (1, 1359)\n",
      "[M::mem_pestat] skip orientation RF as there are not enough pairs\n",
      "[M::mem_pestat] analyzing insert size distribution for orientation RR...\n",
      "[M::mem_pestat] (25, 50, 75) percentile: (228, 338, 479)\n",
      "[M::mem_pestat] low and high boundaries for computing mean and std.dev: (1, 981)\n",
      "[M::mem_pestat] mean and std.dev: (352.22, 179.53)\n",
      "[M::mem_pestat] low and high boundaries for proper pairs: (1, 1232)\n",
      "[M::mem_pestat] skip orientation FF\n",
      "[M::mem_pestat] skip orientation RR\n",
      "[M::mem_process_seqs] Processed 203766 reads in 21.107 CPU sec, 5.326 real sec\n",
      "[M::process] read 215832 sequences (40000255 bp)...\n",
      "[M::mem_pestat] # candidate unique pairs for (FF, FR, RF, RR): (555, 97861, 10, 343)\n",
      "[M::mem_pestat] analyzing insert size distribution for orientation FF...\n",
      "[M::mem_pestat] (25, 50, 75) percentile: (242, 354, 499)\n",
      "[M::mem_pestat] low and high boundaries for computing mean and std.dev: (1, 1013)\n",
      "[M::mem_pestat] mean and std.dev: (370.96, 185.51)\n",
      "[M::mem_pestat] low and high boundaries for proper pairs: (1, 1270)\n",
      "[M::mem_pestat] analyzing insert size distribution for orientation FR...\n",
      "[M::mem_pestat] (25, 50, 75) percentile: (336, 447, 560)\n",
      "[M::mem_pestat] low and high boundaries for computing mean and std.dev: (1, 1008)\n",
      "[M::mem_pestat] mean and std.dev: (449.24, 171.24)\n",
      "[M::mem_pestat] low and high boundaries for proper pairs: (1, 1232)\n",
      "[M::mem_pestat] analyzing insert size distribution for orientation RF...\n",
      "[M::mem_pestat] (25, 50, 75) percentile: (352, 1166, 3735)\n",
      "[M::mem_pestat] low and high boundaries for computing mean and std.dev: (1, 10501)\n",
      "[M::mem_pestat] mean and std.dev: (2366.70, 2930.65)\n",
      "[M::mem_pestat] low and high boundaries for proper pairs: (1, 13884)\n",
      "[M::mem_pestat] analyzing insert size distribution for orientation RR...\n",
      "[M::mem_pestat] (25, 50, 75) percentile: (185, 282, 386)\n",
      "[M::mem_pestat] low and high boundaries for computing mean and std.dev: (1, 788)\n",
      "[M::mem_pestat] mean and std.dev: (294.79, 152.78)\n",
      "[M::mem_pestat] low and high boundaries for proper pairs: (1, 989)\n",
      "[M::mem_pestat] skip orientation FF\n",
      "[M::mem_pestat] skip orientation RF\n",
      "[M::mem_pestat] skip orientation RR\n",
      "[M::mem_process_seqs] Processed 215832 reads in 22.296 CPU sec, 5.662 real sec\n",
      "[M::process] read 219886 sequences (40000245 bp)...\n",
      "[M::mem_pestat] # candidate unique pairs for (FF, FR, RF, RR): (636, 99732, 4, 407)\n",
      "[M::mem_pestat] analyzing insert size distribution for orientation FF...\n",
      "[M::mem_pestat] (25, 50, 75) percentile: (240, 375, 519)\n",
      "[M::mem_pestat] low and high boundaries for computing mean and std.dev: (1, 1077)\n",
      "[M::mem_pestat] mean and std.dev: (387.63, 198.43)\n",
      "[M::mem_pestat] low and high boundaries for proper pairs: (1, 1356)\n",
      "[M::mem_pestat] analyzing insert size distribution for orientation FR...\n",
      "[M::mem_pestat] (25, 50, 75) percentile: (350, 461, 580)\n",
      "[M::mem_pestat] low and high boundaries for computing mean and std.dev: (1, 1040)\n",
      "[M::mem_pestat] mean and std.dev: (467.45, 178.80)\n",
      "[M::mem_pestat] low and high boundaries for proper pairs: (1, 1270)\n",
      "[M::mem_pestat] skip orientation RF as there are not enough pairs\n",
      "[M::mem_pestat] analyzing insert size distribution for orientation RR...\n",
      "[M::mem_pestat] (25, 50, 75) percentile: (200, 314, 451)\n",
      "[M::mem_pestat] low and high boundaries for computing mean and std.dev: (1, 953)\n",
      "[M::mem_pestat] mean and std.dev: (330.23, 173.55)\n",
      "[M::mem_pestat] low and high boundaries for proper pairs: (1, 1204)\n",
      "[M::mem_pestat] skip orientation FF\n",
      "[M::mem_pestat] skip orientation RR\n",
      "[M::mem_process_seqs] Processed 219886 reads in 22.980 CPU sec, 5.808 real sec\n",
      "[M::process] read 35654 sequences (6637601 bp)...\n",
      "[M::mem_pestat] # candidate unique pairs for (FF, FR, RF, RR): (115, 16198, 0, 59)\n",
      "[M::mem_pestat] analyzing insert size distribution for orientation FF...\n",
      "[M::mem_pestat] (25, 50, 75) percentile: (260, 365, 528)\n",
      "[M::mem_pestat] low and high boundaries for computing mean and std.dev: (1, 1064)\n",
      "[M::mem_pestat] mean and std.dev: (378.24, 173.59)\n",
      "[M::mem_pestat] low and high boundaries for proper pairs: (1, 1332)\n",
      "[M::mem_pestat] analyzing insert size distribution for orientation FR...\n",
      "[M::mem_pestat] (25, 50, 75) percentile: (358, 470, 594)\n",
      "[M::mem_pestat] low and high boundaries for computing mean and std.dev: (1, 1066)\n",
      "[M::mem_pestat] mean and std.dev: (479.36, 182.47)\n",
      "[M::mem_pestat] low and high boundaries for proper pairs: (1, 1302)\n",
      "[M::mem_pestat] skip orientation RF as there are not enough pairs\n",
      "[M::mem_pestat] analyzing insert size distribution for orientation RR...\n",
      "[M::mem_pestat] (25, 50, 75) percentile: (258, 335, 521)\n",
      "[M::mem_pestat] low and high boundaries for computing mean and std.dev: (1, 1047)\n",
      "[M::mem_pestat] mean and std.dev: (382.00, 186.40)\n",
      "[M::mem_pestat] low and high boundaries for proper pairs: (1, 1310)\n",
      "[M::mem_pestat] skip orientation FF\n",
      "[M::mem_pestat] skip orientation RR\n",
      "[M::mem_process_seqs] Processed 35654 reads in 3.684 CPU sec, 0.926 real sec\n",
      "[main] Version: 0.7.12-r1039\n",
      "[main] CMD: bwa mem -t 4 -R @RG\\tID:PATIENT1\\tSM:PATIENT1 ST17.fasta PATIENT1_R1.fastq.gz PATIENT1_R2.fastq.gz\n",
      "[main] Real time: 42.862 sec; CPU: 112.638 sec\n",
      "[M::bwa_idx_load_from_disk] read 0 ALT contigs\n",
      "[M::process] read 211376 sequences (40000188 bp)...\n",
      "[M::process] read 198586 sequences (40000082 bp)...\n",
      "[M::mem_pestat] # candidate unique pairs for (FF, FR, RF, RR): (111, 97424, 3, 40)\n",
      "[M::mem_pestat] analyzing insert size distribution for orientation FF...\n",
      "[M::mem_pestat] (25, 50, 75) percentile: (291, 420, 562)\n",
      "[M::mem_pestat] low and high boundaries for computing mean and std.dev: (1, 1104)\n",
      "[M::mem_pestat] mean and std.dev: (422.20, 182.02)\n",
      "[M::mem_pestat] low and high boundaries for proper pairs: (1, 1375)\n",
      "[M::mem_pestat] analyzing insert size distribution for orientation FR...\n",
      "[M::mem_pestat] (25, 50, 75) percentile: (415, 551, 690)\n",
      "[M::mem_pestat] low and high boundaries for computing mean and std.dev: (1, 1240)\n",
      "[M::mem_pestat] mean and std.dev: (552.22, 214.06)\n",
      "[M::mem_pestat] low and high boundaries for proper pairs: (1, 1515)\n",
      "[M::mem_pestat] skip orientation RF as there are not enough pairs\n",
      "[M::mem_pestat] analyzing insert size distribution for orientation RR...\n",
      "[M::mem_pestat] (25, 50, 75) percentile: (292, 426, 612)\n",
      "[M::mem_pestat] low and high boundaries for computing mean and std.dev: (1, 1252)\n",
      "[M::mem_pestat] mean and std.dev: (430.16, 190.72)\n",
      "[M::mem_pestat] low and high boundaries for proper pairs: (1, 1572)\n",
      "[M::mem_pestat] skip orientation FF\n",
      "[M::mem_pestat] skip orientation RR\n",
      "[M::mem_process_seqs] Processed 211376 reads in 18.561 CPU sec, 4.492 real sec\n",
      "[M::mem_pestat] # candidate unique pairs for (FF, FR, RF, RR): (87, 91590, 1, 30)\n",
      "[M::mem_pestat] analyzing insert size distribution for orientation FF...\n",
      "[M::mem_pestat] (25, 50, 75) percentile: (287, 395, 537)\n",
      "[M::mem_pestat] low and high boundaries for computing mean and std.dev: (1, 1037)\n",
      "[M::mem_pestat] mean and std.dev: (408.08, 195.53)\n",
      "[M::mem_pestat] low and high boundaries for proper pairs: (1, 1287)\n",
      "[M::mem_pestat] analyzing insert size distribution for orientation FR...\n",
      "[M::mem_pestat] (25, 50, 75) percentile: (412, 543, 672)\n",
      "[M::mem_pestat] low and high boundaries for computing mean and std.dev: (1, 1192)\n",
      "[M::mem_pestat] mean and std.dev: (539.20, 199.44)\n",
      "[M::mem_pestat] low and high boundaries for proper pairs: (1, 1452)\n",
      "[M::mem_pestat] skip orientation RF as there are not enough pairs\n",
      "[M::mem_pestat] analyzing insert size distribution for orientation RR...\n",
      "[M::mem_pestat] (25, 50, 75) percentile: (307, 478, 902)\n",
      "[M::mem_pestat] low and high boundaries for computing mean and std.dev: (1, 2092)\n",
      "[M::mem_pestat] mean and std.dev: (476.56, 290.49)\n",
      "[M::mem_pestat] low and high boundaries for proper pairs: (1, 2687)\n",
      "[M::mem_pestat] skip orientation FF\n",
      "[M::mem_pestat] skip orientation RR\n",
      "[M::mem_process_seqs] Processed 198586 reads in 21.447 CPU sec, 5.430 real sec\n",
      "[M::process] read 194044 sequences (40000038 bp)...\n",
      "[M::mem_pestat] # candidate unique pairs for (FF, FR, RF, RR): (86, 89556, 0, 33)\n",
      "[M::mem_pestat] analyzing insert size distribution for orientation FF...\n",
      "[M::mem_pestat] (25, 50, 75) percentile: (322, 425, 609)\n",
      "[M::mem_pestat] low and high boundaries for computing mean and std.dev: (1, 1183)\n",
      "[M::mem_pestat] mean and std.dev: (437.52, 191.99)\n",
      "[M::mem_pestat] low and high boundaries for proper pairs: (1, 1470)\n",
      "[M::mem_pestat] analyzing insert size distribution for orientation FR...\n",
      "[M::mem_pestat] (25, 50, 75) percentile: (413, 542, 664)\n",
      "[M::mem_pestat] low and high boundaries for computing mean and std.dev: (1, 1166)\n",
      "[M::mem_pestat] mean and std.dev: (533.75, 191.92)\n",
      "[M::mem_pestat] low and high boundaries for proper pairs: (1, 1417)\n",
      "[M::mem_pestat] skip orientation RF as there are not enough pairs\n",
      "[M::mem_pestat] analyzing insert size distribution for orientation RR...\n",
      "[M::mem_pestat] (25, 50, 75) percentile: (253, 427, 613)\n",
      "[M::mem_pestat] low and high boundaries for computing mean and std.dev: (1, 1333)\n",
      "[M::mem_pestat] mean and std.dev: (386.29, 215.41)\n",
      "[M::mem_pestat] low and high boundaries for proper pairs: (1, 1693)\n",
      "[M::mem_pestat] skip orientation FF\n",
      "[M::mem_pestat] skip orientation RR\n",
      "[M::mem_process_seqs] Processed 194044 reads in 21.307 CPU sec, 5.358 real sec\n",
      "[M::process] read 208386 sequences (40000087 bp)...\n",
      "[M::mem_pestat] # candidate unique pairs for (FF, FR, RF, RR): (104, 96045, 1, 52)\n",
      "[M::mem_pestat] analyzing insert size distribution for orientation FF...\n",
      "[M::mem_pestat] (25, 50, 75) percentile: (297, 426, 521)\n",
      "[M::mem_pestat] low and high boundaries for computing mean and std.dev: (1, 969)\n",
      "[M::mem_pestat] mean and std.dev: (414.65, 169.01)\n",
      "[M::mem_pestat] low and high boundaries for proper pairs: (1, 1193)\n",
      "[M::mem_pestat] analyzing insert size distribution for orientation FR...\n",
      "[M::mem_pestat] (25, 50, 75) percentile: (418, 548, 678)\n",
      "[M::mem_pestat] low and high boundaries for computing mean and std.dev: (1, 1198)\n",
      "[M::mem_pestat] mean and std.dev: (545.61, 200.31)\n",
      "[M::mem_pestat] low and high boundaries for proper pairs: (1, 1458)\n",
      "[M::mem_pestat] skip orientation RF as there are not enough pairs\n",
      "[M::mem_pestat] analyzing insert size distribution for orientation RR...\n",
      "[M::mem_pestat] (25, 50, 75) percentile: (280, 368, 713)\n",
      "[M::mem_pestat] low and high boundaries for computing mean and std.dev: (1, 1579)\n",
      "[M::mem_pestat] mean and std.dev: (490.46, 315.07)\n",
      "[M::mem_pestat] low and high boundaries for proper pairs: (1, 2012)\n",
      "[M::mem_pestat] skip orientation FF\n",
      "[M::mem_pestat] skip orientation RR\n",
      "[M::mem_process_seqs] Processed 208386 reads in 22.708 CPU sec, 5.718 real sec\n",
      "[M::process] read 124130 sequences (24315646 bp)...\n",
      "[M::mem_pestat] # candidate unique pairs for (FF, FR, RF, RR): (66, 57195, 0, 20)\n",
      "[M::mem_pestat] analyzing insert size distribution for orientation FF...\n",
      "[M::mem_pestat] (25, 50, 75) percentile: (342, 424, 520)\n",
      "[M::mem_pestat] low and high boundaries for computing mean and std.dev: (1, 876)\n",
      "[M::mem_pestat] mean and std.dev: (421.95, 155.85)\n",
      "[M::mem_pestat] low and high boundaries for proper pairs: (1, 1054)\n",
      "[M::mem_pestat] analyzing insert size distribution for orientation FR...\n",
      "[M::mem_pestat] (25, 50, 75) percentile: (423, 551, 678)\n",
      "[M::mem_pestat] low and high boundaries for computing mean and std.dev: (1, 1188)\n",
      "[M::mem_pestat] mean and std.dev: (548.07, 195.60)\n",
      "[M::mem_pestat] low and high boundaries for proper pairs: (1, 1443)\n",
      "[M::mem_pestat] skip orientation RF as there are not enough pairs\n",
      "[M::mem_pestat] analyzing insert size distribution for orientation RR...\n",
      "[M::mem_pestat] (25, 50, 75) percentile: (308, 467, 846)\n",
      "[M::mem_pestat] low and high boundaries for computing mean and std.dev: (1, 1922)\n",
      "[M::mem_pestat] mean and std.dev: (614.30, 450.05)\n",
      "[M::mem_pestat] low and high boundaries for proper pairs: (1, 2460)\n",
      "[M::mem_pestat] skip orientation FF\n",
      "[M::mem_pestat] skip orientation RR\n",
      "[M::mem_process_seqs] Processed 124130 reads in 13.673 CPU sec, 3.451 real sec\n",
      "[main] Version: 0.7.12-r1039\n",
      "[main] CMD: bwa mem -t 4 -R @RG\\tID:TAP1\\tSM:TAP1 ST17.fasta PATIENT2_R1.fastq.gz PATIENT2_R2.fastq.gz\n",
      "[main] Real time: 39.242 sec; CPU: 100.376 sec\n"
     ]
    }
   ],
   "source": [
    "%%bash\n",
    "\n",
    "bwa mem -t 4 -R '@RG\\tID:PATIENT1\\tSM:PATIENT1' ST17.fasta PATIENT1_R1.fastq.gz PATIENT1_R2.fastq.gz |\n",
    "  samtools view -bS - |\n",
    "  samtools sort - PATIENT1.sorted\n",
    "  \n",
    "samtools index PATIENT1.sorted.bam\n"
   ]
  },
  {
   "cell_type": "code",
   "execution_count": 59,
   "metadata": {
    "collapsed": false
   },
   "outputs": [
    {
     "name": "stderr",
     "output_type": "stream",
     "text": [
      "[M::bwa_idx_load_from_disk] read 0 ALT contigs\n",
      "[M::process] read 211376 sequences (40000188 bp)...\n",
      "[M::process] read 198586 sequences (40000082 bp)...\n",
      "[M::mem_pestat] # candidate unique pairs for (FF, FR, RF, RR): (111, 97424, 3, 40)\n",
      "[M::mem_pestat] analyzing insert size distribution for orientation FF...\n",
      "[M::mem_pestat] (25, 50, 75) percentile: (291, 420, 562)\n",
      "[M::mem_pestat] low and high boundaries for computing mean and std.dev: (1, 1104)\n",
      "[M::mem_pestat] mean and std.dev: (422.20, 182.02)\n",
      "[M::mem_pestat] low and high boundaries for proper pairs: (1, 1375)\n",
      "[M::mem_pestat] analyzing insert size distribution for orientation FR...\n",
      "[M::mem_pestat] (25, 50, 75) percentile: (415, 551, 690)\n",
      "[M::mem_pestat] low and high boundaries for computing mean and std.dev: (1, 1240)\n",
      "[M::mem_pestat] mean and std.dev: (552.22, 214.06)\n",
      "[M::mem_pestat] low and high boundaries for proper pairs: (1, 1515)\n",
      "[M::mem_pestat] skip orientation RF as there are not enough pairs\n",
      "[M::mem_pestat] analyzing insert size distribution for orientation RR...\n",
      "[M::mem_pestat] (25, 50, 75) percentile: (292, 426, 612)\n",
      "[M::mem_pestat] low and high boundaries for computing mean and std.dev: (1, 1252)\n",
      "[M::mem_pestat] mean and std.dev: (430.16, 190.72)\n",
      "[M::mem_pestat] low and high boundaries for proper pairs: (1, 1572)\n",
      "[M::mem_pestat] skip orientation FF\n",
      "[M::mem_pestat] skip orientation RR\n",
      "[M::mem_process_seqs] Processed 211376 reads in 18.436 CPU sec, 4.466 real sec\n",
      "[M::mem_pestat] # candidate unique pairs for (FF, FR, RF, RR): (87, 91590, 1, 30)\n",
      "[M::mem_pestat] analyzing insert size distribution for orientation FF...\n",
      "[M::mem_pestat] (25, 50, 75) percentile: (287, 395, 537)\n",
      "[M::mem_pestat] low and high boundaries for computing mean and std.dev: (1, 1037)\n",
      "[M::mem_pestat] mean and std.dev: (408.08, 195.53)\n",
      "[M::mem_pestat] low and high boundaries for proper pairs: (1, 1287)\n",
      "[M::mem_pestat] analyzing insert size distribution for orientation FR...\n",
      "[M::mem_pestat] (25, 50, 75) percentile: (412, 543, 672)\n",
      "[M::mem_pestat] low and high boundaries for computing mean and std.dev: (1, 1192)\n",
      "[M::mem_pestat] mean and std.dev: (539.20, 199.44)\n",
      "[M::mem_pestat] low and high boundaries for proper pairs: (1, 1452)\n",
      "[M::mem_pestat] skip orientation RF as there are not enough pairs\n",
      "[M::mem_pestat] analyzing insert size distribution for orientation RR...\n",
      "[M::mem_pestat] (25, 50, 75) percentile: (307, 478, 902)\n",
      "[M::mem_pestat] low and high boundaries for computing mean and std.dev: (1, 2092)\n",
      "[M::mem_pestat] mean and std.dev: (476.56, 290.49)\n",
      "[M::mem_pestat] low and high boundaries for proper pairs: (1, 2687)\n",
      "[M::mem_pestat] skip orientation FF\n",
      "[M::mem_pestat] skip orientation RR\n",
      "[M::mem_process_seqs] Processed 198586 reads in 20.838 CPU sec, 5.246 real sec\n",
      "[M::process] read 194044 sequences (40000038 bp)...\n",
      "[M::mem_pestat] # candidate unique pairs for (FF, FR, RF, RR): (86, 89556, 0, 33)\n",
      "[M::mem_pestat] analyzing insert size distribution for orientation FF...\n",
      "[M::mem_pestat] (25, 50, 75) percentile: (322, 425, 609)\n",
      "[M::mem_pestat] low and high boundaries for computing mean and std.dev: (1, 1183)\n",
      "[M::mem_pestat] mean and std.dev: (437.52, 191.99)\n",
      "[M::mem_pestat] low and high boundaries for proper pairs: (1, 1470)\n",
      "[M::mem_pestat] analyzing insert size distribution for orientation FR...\n",
      "[M::mem_pestat] (25, 50, 75) percentile: (413, 542, 664)\n",
      "[M::mem_pestat] low and high boundaries for computing mean and std.dev: (1, 1166)\n",
      "[M::mem_pestat] mean and std.dev: (533.75, 191.92)\n",
      "[M::mem_pestat] low and high boundaries for proper pairs: (1, 1417)\n",
      "[M::mem_pestat] skip orientation RF as there are not enough pairs\n",
      "[M::mem_pestat] analyzing insert size distribution for orientation RR...\n",
      "[M::mem_pestat] (25, 50, 75) percentile: (253, 427, 613)\n",
      "[M::mem_pestat] low and high boundaries for computing mean and std.dev: (1, 1333)\n",
      "[M::mem_pestat] mean and std.dev: (386.29, 215.41)\n",
      "[M::mem_pestat] low and high boundaries for proper pairs: (1, 1693)\n",
      "[M::mem_pestat] skip orientation FF\n",
      "[M::mem_pestat] skip orientation RR\n",
      "[M::mem_process_seqs] Processed 194044 reads in 22.003 CPU sec, 5.575 real sec\n",
      "[M::process] read 208386 sequences (40000087 bp)...\n",
      "[M::mem_pestat] # candidate unique pairs for (FF, FR, RF, RR): (104, 96045, 1, 52)\n",
      "[M::mem_pestat] analyzing insert size distribution for orientation FF...\n",
      "[M::mem_pestat] (25, 50, 75) percentile: (297, 426, 521)\n",
      "[M::mem_pestat] low and high boundaries for computing mean and std.dev: (1, 969)\n",
      "[M::mem_pestat] mean and std.dev: (414.65, 169.01)\n",
      "[M::mem_pestat] low and high boundaries for proper pairs: (1, 1193)\n",
      "[M::mem_pestat] analyzing insert size distribution for orientation FR...\n",
      "[M::mem_pestat] (25, 50, 75) percentile: (418, 548, 678)\n",
      "[M::mem_pestat] low and high boundaries for computing mean and std.dev: (1, 1198)\n",
      "[M::mem_pestat] mean and std.dev: (545.61, 200.31)\n",
      "[M::mem_pestat] low and high boundaries for proper pairs: (1, 1458)\n",
      "[M::mem_pestat] skip orientation RF as there are not enough pairs\n",
      "[M::mem_pestat] analyzing insert size distribution for orientation RR...\n",
      "[M::mem_pestat] (25, 50, 75) percentile: (280, 368, 713)\n",
      "[M::mem_pestat] low and high boundaries for computing mean and std.dev: (1, 1579)\n",
      "[M::mem_pestat] mean and std.dev: (490.46, 315.07)\n",
      "[M::mem_pestat] low and high boundaries for proper pairs: (1, 2012)\n",
      "[M::mem_pestat] skip orientation FF\n",
      "[M::mem_pestat] skip orientation RR\n",
      "[M::mem_process_seqs] Processed 208386 reads in 23.779 CPU sec, 6.041 real sec\n",
      "[M::process] read 124130 sequences (24315646 bp)...\n",
      "[M::mem_pestat] # candidate unique pairs for (FF, FR, RF, RR): (66, 57195, 0, 20)\n",
      "[M::mem_pestat] analyzing insert size distribution for orientation FF...\n",
      "[M::mem_pestat] (25, 50, 75) percentile: (342, 424, 520)\n",
      "[M::mem_pestat] low and high boundaries for computing mean and std.dev: (1, 876)\n",
      "[M::mem_pestat] mean and std.dev: (421.95, 155.85)\n",
      "[M::mem_pestat] low and high boundaries for proper pairs: (1, 1054)\n",
      "[M::mem_pestat] analyzing insert size distribution for orientation FR...\n",
      "[M::mem_pestat] (25, 50, 75) percentile: (423, 551, 678)\n",
      "[M::mem_pestat] low and high boundaries for computing mean and std.dev: (1, 1188)\n",
      "[M::mem_pestat] mean and std.dev: (548.07, 195.60)\n",
      "[M::mem_pestat] low and high boundaries for proper pairs: (1, 1443)\n",
      "[M::mem_pestat] skip orientation RF as there are not enough pairs\n",
      "[M::mem_pestat] analyzing insert size distribution for orientation RR...\n",
      "[M::mem_pestat] (25, 50, 75) percentile: (308, 467, 846)\n",
      "[M::mem_pestat] low and high boundaries for computing mean and std.dev: (1, 1922)\n",
      "[M::mem_pestat] mean and std.dev: (614.30, 450.05)\n",
      "[M::mem_pestat] low and high boundaries for proper pairs: (1, 2460)\n",
      "[M::mem_pestat] skip orientation FF\n",
      "[M::mem_pestat] skip orientation RR\n",
      "[M::mem_process_seqs] Processed 124130 reads in 14.424 CPU sec, 3.663 real sec\n",
      "[main] Version: 0.7.12-r1039\n",
      "[main] CMD: bwa mem -t 4 -R @RG\\tID:PATIENT2\\tSM:PATIENT2 ST17.fasta PATIENT2_R1.fastq.gz PATIENT2_R2.fastq.gz\n",
      "[main] Real time: 39.709 sec; CPU: 102.162 sec\n"
     ]
    }
   ],
   "source": [
    "%%bash\n",
    "\n",
    "bwa mem -t 4 -R '@RG\\tID:PATIENT2\\tSM:PATIENT2' ST17.fasta PATIENT2_R1.fastq.gz PATIENT2_R2.fastq.gz |\n",
    "  samtools view -bS - |\n",
    "  samtools sort - PATIENT2.sorted\n",
    "  \n",
    "samtools index PATIENT2.sorted.bam"
   ]
  },
  {
   "cell_type": "code",
   "execution_count": 28,
   "metadata": {
    "collapsed": true
   },
   "outputs": [],
   "source": [
    "import os\n",
    "os.environ['PATH'] = os.getenv('PATH') + ':../bin/freebayes/bin:../bin/vcflib/bin' "
   ]
  },
  {
   "cell_type": "markdown",
   "metadata": {},
   "source": [
    "Let's now call some SNPs. Use a ploidy value of 1 because these are bacteria and a coverage cut-off of >5."
   ]
  },
  {
   "cell_type": "code",
   "execution_count": 36,
   "metadata": {
    "collapsed": true
   },
   "outputs": [],
   "source": [
    "!freebayes --ploidy 1 -C 5 -f ST17.fasta TAP1.sorted.bam PATIENT1.sorted.bam  > compare_tap1.vcf\n",
    "!freebayes --ploidy 1 -C 5 -f ST17.fasta TAP2.sorted.bam PATIENT1.sorted.bam  > compare_tap2.vcf\n",
    "!freebayes --ploidy 1 -C 5 -f ST17.fasta TAP3.sorted.bam PATIENT1.sorted.bam  > compare_tap3.vcf"
   ]
  },
  {
   "cell_type": "code",
   "execution_count": 38,
   "metadata": {
    "collapsed": false
   },
   "outputs": [
    {
     "name": "stdout",
     "output_type": "stream",
     "text": [
      "    6675\r\n"
     ]
    }
   ],
   "source": [
    "!vcffilter -f \"QUAL / AO > 10\" compare_tap1.vcf | vcffilter -f \"NS = 2\" | wc -l "
   ]
  },
  {
   "cell_type": "markdown",
   "metadata": {},
   "source": [
    "Let's compare each pair\n",
    "\n",
    "   * PATIENT1 vs TAP1\n",
    "   * PATIENT1 vs TAP2\n",
    "   * PATIENT1 vs TAP3\n",
    "    \n",
    "Let's also apply a hard quality filter \"QUAL / AO > 10\"\n",
    "\n",
    "And let's exclude any positions that have \"no calls\" in either sample, by insisting on the number of samples with data being 2. \"NS = 2\"\n",
    "\n",
    "Finally let's filter for SNPs that are discriminatory between samples:  \"! ( SAME = germline ) \""
   ]
  },
  {
   "cell_type": "code",
   "execution_count": 47,
   "metadata": {
    "collapsed": false
   },
   "outputs": [
    {
     "name": "stdout",
     "output_type": "stream",
     "text": [
      "       5\n",
      "       5\n",
      "   30680\n"
     ]
    }
   ],
   "source": [
    "!vcfsamplediff SAME TAP1 PATIENT1 compare_tap1.vcf | vcffilter -f \"QUAL / AO > 10\" | vcffilter -f \"NS = 2\" | vcffilter -f \"! ( SAME = germline ) \" | grep -v \"^#\" | wc -l \n",
    "!vcfsamplediff SAME TAP2 PATIENT1 compare_tap2.vcf | vcffilter -f \"QUAL / AO > 10\" | vcffilter -f \"NS = 2\" | vcffilter -f \"! ( SAME = germline ) \" | grep -v \"^#\" | wc -l \n",
    "!vcfsamplediff SAME TAP3 PATIENT1 compare_tap3.vcf | vcffilter -f \"QUAL / AO > 10\" | vcffilter -f \"NS = 2\" | vcffilter -f \"! ( SAME = germline ) \" | grep -v \"^#\" | wc -l "
   ]
  },
  {
   "cell_type": "markdown",
   "metadata": {},
   "source": [
    "Aha! Tap 1 and Tap 2 look to have the same number of differences compared to the patient, and tap 3 looks completely different! Why is that?"
   ]
  },
  {
   "cell_type": "code",
   "execution_count": 62,
   "metadata": {
    "collapsed": true
   },
   "outputs": [],
   "source": [
    "!vcfsamplediff SAME PATIENT1 TAP1 compare_tap1.vcf  | vcffilter -f \"QUAL / AO > 10\" | vcffilter -f \"NS = 2\" | vcffilter -f \"! ( SAME = germline ) \" > tap_differences.vcf "
   ]
  },
  {
   "cell_type": "code",
   "execution_count": 64,
   "metadata": {
    "collapsed": false
   },
   "outputs": [
    {
     "name": "stdout",
     "output_type": "stream",
     "text": [
      "chromosome\tProdigal:2.60\tCDS\t1439218\t1439218\t.\t-\t0\tID=NCTC13620_01334;gene=yfiR;inference=ab initio prediction:Prodigal:2.60,similar to AA sequence:RefSeq:YP_007708087.1,similar to AA sequence:UniProtKB:O31560,protein motif:CLUSTERS:PRK15008,protein motif:TIGRFAMs:TIGR03384,protein motif:Pfam:PF00440.17;locus_tag=NCTC13620_01334;product=putative transcriptional regulator,Uncharacterized HTH-type transcriptional regulator yfiR,HTH-type transcriptional regulator RutR,transcriptional repressor BetI,Bacterial regulatory proteins%2C tetR family;protein_id=gnl|SC|NCTC13620_01334\r\n",
      "chromosome\tProdigal:2.60\tCDS\t2760378\t2760380\t.\t-\t0\tID=NCTC13620_02602;inference=ab initio prediction:Prodigal:2.60,similar to AA sequence:RefSeq:YP_261793.1,protein motif:TIGRFAMs:TIGR03756,protein motif:Pfam:PF06834.5;locus_tag=NCTC13620_02602;product=integrating conjugative element protein,integrating conjugative element protein%2C PFL_4710 family,TraU protein;protein_id=gnl|SC|NCTC13620_02602\r\n",
      "chromosome\tProdigal:2.60\tCDS\t2760387\t2760387\t.\t-\t0\tID=NCTC13620_02602;inference=ab initio prediction:Prodigal:2.60,similar to AA sequence:RefSeq:YP_261793.1,protein motif:TIGRFAMs:TIGR03756,protein motif:Pfam:PF06834.5;locus_tag=NCTC13620_02602;product=integrating conjugative element protein,integrating conjugative element protein%2C PFL_4710 family,TraU protein;protein_id=gnl|SC|NCTC13620_02602\r\n",
      "chromosome\tProdigal:2.60\tCDS\t5576986\t5576986\t.\t+\t0\tID=NCTC13620_05236;inference=ab initio prediction:Prodigal:2.60,similar to AA sequence:RefSeq:YP_001349879.1,protein motif:Cdd:COG3481,protein motif:TIGRFAMs:TIGR03760,protein motif:Pfam:PF07514.5;locus_tag=NCTC13620_05236;product=relaxase,Predicted HD-superfamily hydrolase,integrating conjugative element relaxase%2C PFGI-1 class,Putative helicase;protein_id=gnl|SC|NCTC13620_05236\r\n"
     ]
    }
   ],
   "source": [
    "!bedtools intersect -a ST17.gff -b tap_differences.vcf"
   ]
  },
  {
   "cell_type": "markdown",
   "metadata": {},
   "source": [
    "Do joint calling between the two patient isolates:"
   ]
  },
  {
   "cell_type": "code",
   "execution_count": 60,
   "metadata": {
    "collapsed": true
   },
   "outputs": [],
   "source": [
    "!freebayes --ploidy 1 -C 5 -f ST17.fasta PATIENT1.sorted.bam PATIENT2.sorted.bam > compare_patient.vcf"
   ]
  },
  {
   "cell_type": "markdown",
   "metadata": {},
   "source": [
    "Call out the differences between the two patient isolates, filter for quality, remove no call positions and show only SNPs which are varying:"
   ]
  },
  {
   "cell_type": "code",
   "execution_count": 56,
   "metadata": {
    "collapsed": false
   },
   "outputs": [],
   "source": [
    "!vcfsamplediff SAME PATIENT1 TAP1 compare_patient.vcf  | vcffilter -f \"QUAL / AO > 10\" | vcffilter -f \"NS = 2\" | vcffilter -f \"! ( SAME = germline ) \" > patient_differences.vcf "
   ]
  },
  {
   "cell_type": "markdown",
   "metadata": {},
   "source": [
    "Let's look and see which genes might be affected by those mutations:"
   ]
  },
  {
   "cell_type": "code",
   "execution_count": null,
   "metadata": {
    "collapsed": true
   },
   "outputs": [],
   "source": [
    "!wget http://www.microbesng.uk/filedist/pseudomonas-practical/ST17.gff"
   ]
  },
  {
   "cell_type": "code",
   "execution_count": 58,
   "metadata": {
    "collapsed": false
   },
   "outputs": [
    {
     "name": "stdout",
     "output_type": "stream",
     "text": [
      "chromosome\tProdigal:2.60\tCDS\t13886\t13888\t.\t+\t0\tID=NCTC13620_00011;eC_number=2.3.1.-;gene=htrB_1;inference=ab initio prediction:Prodigal:2.60,similar to AA sequence:RefSeq:YP_007706864.1,similar to AA sequence:UniProtKB:P0ACV0,protein motif:CLUSTERS:PRK05645,protein motif:Cdd:COG1560,protein motif:TIGRFAMs:TIGR02207,protein motif:Pfam:PF03279.7;locus_tag=NCTC13620_00011;product=lipid A biosynthesis lauroyl acyltransferase,Lipid A biosynthesis lauroyl acyltransferase,lipid A biosynthesis lauroyl acyltransferase,Lauroyl/myristoyl acyltransferase,lipid A biosynthesis lauroyl (or palmitoleoyl) acyltransferase,Bacterial lipid A biosynthesis acyltransferase;protein_id=gnl|SC|NCTC13620_00011\r\n",
      "chromosome\tProdigal:2.60\tCDS\t2031140\t2031140\t.\t+\t0\tID=NCTC13620_01884;eC_number=5.99.1.3;gene=gyrA;inference=ab initio prediction:Prodigal:2.60,similar to AA sequence:RefSeq:YP_007708648.1,similar to AA sequence:UniProtKB:P0AES5,protein motif:CLUSTERS:PRK05560,protein motif:Cdd:COG0188,protein motif:TIGRFAMs:TIGR01063,protein motif:Pfam:PF00521.1;locus_tag=NCTC13620_01884;product=DNA gyrase subunit A,DNA gyrase subunit A,DNA gyrase subunit A,Type IIA topoisomerase (DNA gyrase/topo II%2C topoisomerase IV)%2C A subunit,DNA gyrase%2C A subunit,DNA gyrase/topoisomerase IV%2C subunit A;protein_id=gnl|SC|NCTC13620_01884\r\n",
      "chromosome\tProdigal:2.60\tCDS\t4906982\t4906982\t.\t+\t0\tID=NCTC13620_04589;gene=traG_3;inference=ab initio prediction:Prodigal:2.60,similar to AA sequence:RefSeq:YP_001349062.1,similar to AA sequence:UniProtKB:Q00185,protein motif:CLUSTERS:PRK13876,protein motif:Cdd:COG3505,protein motif:TIGRFAMs:TIGR02767,protein motif:Pfam:PF02534.8;locus_tag=NCTC13620_04589;product=conjugal transfer coupling protein TraG,Conjugal transfer protein traG,conjugal transfer coupling protein TraG,Type IV secretory pathway%2C VirD4 components,Ti-type conjugative transfer system protein TraG,Type IV secretory system Conjugative DNA transfer;protein_id=gnl|SC|NCTC13620_04589\r\n"
     ]
    }
   ],
   "source": [
    "!bedtools intersect -a ST17.gff -b patient_differences.vcf"
   ]
  },
  {
   "cell_type": "code",
   "execution_count": null,
   "metadata": {
    "collapsed": true
   },
   "outputs": [],
   "source": [
    "Google \"DNA gyrase antibiotic resistance\""
   ]
  }
 ],
 "metadata": {
  "kernelspec": {
   "display_name": "Python 2",
   "language": "python",
   "name": "python2"
  },
  "language_info": {
   "codemirror_mode": {
    "name": "ipython",
    "version": 2
   },
   "file_extension": ".py",
   "mimetype": "text/x-python",
   "name": "python",
   "nbconvert_exporter": "python",
   "pygments_lexer": "ipython2",
   "version": "2.7.10"
  }
 },
 "nbformat": 4,
 "nbformat_minor": 0
}
